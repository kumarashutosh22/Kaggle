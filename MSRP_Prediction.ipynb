{
  "nbformat": 4,
  "nbformat_minor": 0,
  "metadata": {
    "colab": {
      "name": "MSRP_Prediction.ipynb",
      "provenance": [],
      "authorship_tag": "ABX9TyNDQ7iYsiYAbatKqMXS0+U0",
      "include_colab_link": true
    },
    "kernelspec": {
      "name": "python3",
      "display_name": "Python 3"
    }
  },
  "cells": [
    {
      "cell_type": "markdown",
      "metadata": {
        "id": "view-in-github",
        "colab_type": "text"
      },
      "source": [
        "<a href=\"https://colab.research.google.com/github/kumarashutosh22/Kaggle/blob/master/MSRP_Prediction.ipynb\" target=\"_parent\"><img src=\"https://colab.research.google.com/assets/colab-badge.svg\" alt=\"Open In Colab\"/></a>"
      ]
    },
    {
      "cell_type": "markdown",
      "metadata": {
        "id": "xLye09Gm7zuF"
      },
      "source": [
        "# Kaggle API and data unzipping"
      ]
    },
    {
      "cell_type": "code",
      "metadata": {
        "id": "2BrDixjz5s_L"
      },
      "source": [
        "! mkdir ~/.kaggle"
      ],
      "execution_count": null,
      "outputs": []
    },
    {
      "cell_type": "code",
      "metadata": {
        "id": "jv4eI0jY7TNb"
      },
      "source": [
        "! cp kaggle.json ~/.kaggle/"
      ],
      "execution_count": null,
      "outputs": []
    },
    {
      "cell_type": "code",
      "metadata": {
        "id": "CVfIyiuQ7TKq"
      },
      "source": [
        "!chmod 600 ~/.kaggle/kaggle.json"
      ],
      "execution_count": null,
      "outputs": []
    },
    {
      "cell_type": "code",
      "metadata": {
        "colab": {
          "base_uri": "https://localhost:8080/"
        },
        "id": "YIZWDhpI7TEf",
        "outputId": "78b4ebf2-e8d3-479d-8a1e-f7d79e92b2c7"
      },
      "source": [
        "! kaggle datasets download -d CooperUnion/cardataset"
      ],
      "execution_count": null,
      "outputs": [
        {
          "output_type": "stream",
          "text": [
            "Downloading cardataset.zip to /content\n",
            "\r  0% 0.00/103k [00:00<?, ?B/s]\n",
            "\r100% 103k/103k [00:00<00:00, 32.9MB/s]\n"
          ],
          "name": "stdout"
        }
      ]
    },
    {
      "cell_type": "code",
      "metadata": {
        "colab": {
          "base_uri": "https://localhost:8080/"
        },
        "id": "KG5KNX8u7THv",
        "outputId": "548bc7fe-38b0-480d-edca-a774f98f5d74"
      },
      "source": [
        "! unzip cardataset.zip"
      ],
      "execution_count": null,
      "outputs": [
        {
          "output_type": "stream",
          "text": [
            "Archive:  cardataset.zip\n",
            "  inflating: data.csv                \n"
          ],
          "name": "stdout"
        }
      ]
    },
    {
      "cell_type": "markdown",
      "metadata": {
        "id": "h4VsPUZ77zso"
      },
      "source": [
        "# Libraries"
      ]
    },
    {
      "cell_type": "code",
      "metadata": {
        "id": "8AXjloHC7TBZ"
      },
      "source": [
        "import numpy as np\n",
        "import pandas as pd\n",
        "\n",
        "import matplotlib.pyplot as plt\n",
        "import seaborn as sns\n",
        "\n",
        "%matplotlib inline"
      ],
      "execution_count": null,
      "outputs": []
    },
    {
      "cell_type": "markdown",
      "metadata": {
        "id": "_O-_x0qZ8n0Z"
      },
      "source": [
        "# Reading the data"
      ]
    },
    {
      "cell_type": "code",
      "metadata": {
        "id": "FXYIKtHk8SYA"
      },
      "source": [
        "car = pd.read_csv('data.csv')"
      ],
      "execution_count": null,
      "outputs": []
    },
    {
      "cell_type": "markdown",
      "metadata": {
        "id": "JOgQM40c8qtR"
      },
      "source": [
        "# Basic EDA"
      ]
    },
    {
      "cell_type": "code",
      "metadata": {
        "id": "bP2fX87v8XpQ",
        "colab": {
          "base_uri": "https://localhost:8080/",
          "height": 435
        },
        "outputId": "3c01f4e6-7a11-4bb1-96b6-0c363ad19e1b"
      },
      "source": [
        "car.head()"
      ],
      "execution_count": null,
      "outputs": [
        {
          "output_type": "execute_result",
          "data": {
            "text/html": [
              "<div>\n",
              "<style scoped>\n",
              "    .dataframe tbody tr th:only-of-type {\n",
              "        vertical-align: middle;\n",
              "    }\n",
              "\n",
              "    .dataframe tbody tr th {\n",
              "        vertical-align: top;\n",
              "    }\n",
              "\n",
              "    .dataframe thead th {\n",
              "        text-align: right;\n",
              "    }\n",
              "</style>\n",
              "<table border=\"1\" class=\"dataframe\">\n",
              "  <thead>\n",
              "    <tr style=\"text-align: right;\">\n",
              "      <th></th>\n",
              "      <th>Make</th>\n",
              "      <th>Model</th>\n",
              "      <th>Year</th>\n",
              "      <th>Engine Fuel Type</th>\n",
              "      <th>Engine HP</th>\n",
              "      <th>Engine Cylinders</th>\n",
              "      <th>Transmission Type</th>\n",
              "      <th>Driven_Wheels</th>\n",
              "      <th>Number of Doors</th>\n",
              "      <th>Market Category</th>\n",
              "      <th>Vehicle Size</th>\n",
              "      <th>Vehicle Style</th>\n",
              "      <th>highway MPG</th>\n",
              "      <th>city mpg</th>\n",
              "      <th>Popularity</th>\n",
              "      <th>MSRP</th>\n",
              "    </tr>\n",
              "  </thead>\n",
              "  <tbody>\n",
              "    <tr>\n",
              "      <th>0</th>\n",
              "      <td>BMW</td>\n",
              "      <td>1 Series M</td>\n",
              "      <td>2011</td>\n",
              "      <td>premium unleaded (required)</td>\n",
              "      <td>335.0</td>\n",
              "      <td>6.0</td>\n",
              "      <td>MANUAL</td>\n",
              "      <td>rear wheel drive</td>\n",
              "      <td>2.0</td>\n",
              "      <td>Factory Tuner,Luxury,High-Performance</td>\n",
              "      <td>Compact</td>\n",
              "      <td>Coupe</td>\n",
              "      <td>26</td>\n",
              "      <td>19</td>\n",
              "      <td>3916</td>\n",
              "      <td>46135</td>\n",
              "    </tr>\n",
              "    <tr>\n",
              "      <th>1</th>\n",
              "      <td>BMW</td>\n",
              "      <td>1 Series</td>\n",
              "      <td>2011</td>\n",
              "      <td>premium unleaded (required)</td>\n",
              "      <td>300.0</td>\n",
              "      <td>6.0</td>\n",
              "      <td>MANUAL</td>\n",
              "      <td>rear wheel drive</td>\n",
              "      <td>2.0</td>\n",
              "      <td>Luxury,Performance</td>\n",
              "      <td>Compact</td>\n",
              "      <td>Convertible</td>\n",
              "      <td>28</td>\n",
              "      <td>19</td>\n",
              "      <td>3916</td>\n",
              "      <td>40650</td>\n",
              "    </tr>\n",
              "    <tr>\n",
              "      <th>2</th>\n",
              "      <td>BMW</td>\n",
              "      <td>1 Series</td>\n",
              "      <td>2011</td>\n",
              "      <td>premium unleaded (required)</td>\n",
              "      <td>300.0</td>\n",
              "      <td>6.0</td>\n",
              "      <td>MANUAL</td>\n",
              "      <td>rear wheel drive</td>\n",
              "      <td>2.0</td>\n",
              "      <td>Luxury,High-Performance</td>\n",
              "      <td>Compact</td>\n",
              "      <td>Coupe</td>\n",
              "      <td>28</td>\n",
              "      <td>20</td>\n",
              "      <td>3916</td>\n",
              "      <td>36350</td>\n",
              "    </tr>\n",
              "    <tr>\n",
              "      <th>3</th>\n",
              "      <td>BMW</td>\n",
              "      <td>1 Series</td>\n",
              "      <td>2011</td>\n",
              "      <td>premium unleaded (required)</td>\n",
              "      <td>230.0</td>\n",
              "      <td>6.0</td>\n",
              "      <td>MANUAL</td>\n",
              "      <td>rear wheel drive</td>\n",
              "      <td>2.0</td>\n",
              "      <td>Luxury,Performance</td>\n",
              "      <td>Compact</td>\n",
              "      <td>Coupe</td>\n",
              "      <td>28</td>\n",
              "      <td>18</td>\n",
              "      <td>3916</td>\n",
              "      <td>29450</td>\n",
              "    </tr>\n",
              "    <tr>\n",
              "      <th>4</th>\n",
              "      <td>BMW</td>\n",
              "      <td>1 Series</td>\n",
              "      <td>2011</td>\n",
              "      <td>premium unleaded (required)</td>\n",
              "      <td>230.0</td>\n",
              "      <td>6.0</td>\n",
              "      <td>MANUAL</td>\n",
              "      <td>rear wheel drive</td>\n",
              "      <td>2.0</td>\n",
              "      <td>Luxury</td>\n",
              "      <td>Compact</td>\n",
              "      <td>Convertible</td>\n",
              "      <td>28</td>\n",
              "      <td>18</td>\n",
              "      <td>3916</td>\n",
              "      <td>34500</td>\n",
              "    </tr>\n",
              "  </tbody>\n",
              "</table>\n",
              "</div>"
            ],
            "text/plain": [
              "  Make       Model  Year  ... city mpg  Popularity   MSRP\n",
              "0  BMW  1 Series M  2011  ...       19        3916  46135\n",
              "1  BMW    1 Series  2011  ...       19        3916  40650\n",
              "2  BMW    1 Series  2011  ...       20        3916  36350\n",
              "3  BMW    1 Series  2011  ...       18        3916  29450\n",
              "4  BMW    1 Series  2011  ...       18        3916  34500\n",
              "\n",
              "[5 rows x 16 columns]"
            ]
          },
          "metadata": {
            "tags": []
          },
          "execution_count": 8
        }
      ]
    },
    {
      "cell_type": "code",
      "metadata": {
        "id": "1YeSnVJ_8iP0",
        "colab": {
          "base_uri": "https://localhost:8080/"
        },
        "outputId": "948d7212-a675-4e99-b202-70106acaff95"
      },
      "source": [
        "car.info()"
      ],
      "execution_count": null,
      "outputs": [
        {
          "output_type": "stream",
          "text": [
            "<class 'pandas.core.frame.DataFrame'>\n",
            "RangeIndex: 11914 entries, 0 to 11913\n",
            "Data columns (total 16 columns):\n",
            " #   Column             Non-Null Count  Dtype  \n",
            "---  ------             --------------  -----  \n",
            " 0   Make               11914 non-null  object \n",
            " 1   Model              11914 non-null  object \n",
            " 2   Year               11914 non-null  int64  \n",
            " 3   Engine Fuel Type   11911 non-null  object \n",
            " 4   Engine HP          11845 non-null  float64\n",
            " 5   Engine Cylinders   11884 non-null  float64\n",
            " 6   Transmission Type  11914 non-null  object \n",
            " 7   Driven_Wheels      11914 non-null  object \n",
            " 8   Number of Doors    11908 non-null  float64\n",
            " 9   Market Category    8172 non-null   object \n",
            " 10  Vehicle Size       11914 non-null  object \n",
            " 11  Vehicle Style      11914 non-null  object \n",
            " 12  highway MPG        11914 non-null  int64  \n",
            " 13  city mpg           11914 non-null  int64  \n",
            " 14  Popularity         11914 non-null  int64  \n",
            " 15  MSRP               11914 non-null  int64  \n",
            "dtypes: float64(3), int64(5), object(8)\n",
            "memory usage: 1.5+ MB\n"
          ],
          "name": "stdout"
        }
      ]
    },
    {
      "cell_type": "code",
      "metadata": {
        "id": "vP9dKcLF9zJY"
      },
      "source": [
        "# Make                Car Make\n",
        "# Model               Car Model\n",
        "# Year                Car Year (Marketing)\n",
        "# Engine Fuel Type    Engine Fuel Type\n",
        "# Engine HP           Engine Horse Power (HP)\n",
        "# Engine Cylinders    Engine Cylinders\n",
        "# Transmission Type   Transmission Type\n",
        "# Driven_Wheels       Driven Wheels\n",
        "# Number of Doors     Number of Doors\n",
        "# Market Category     Market Category\n",
        "# Vehicle Size        Size of Vehicle\n",
        "# Vehicle Style       Type of Vehicle\n",
        "# highway MPG         Highway MPG\n",
        "# city mpg            City MPG\n",
        "# Popularity          Popularity (Twitter)\n",
        "# MSRP                Manufacturer Suggested Retail Price\n",
        "\n",
        "# MPG is a automotive term meaning miles per galon\n",
        "# it denotes how far a vehicle will travel (in miles == 1.61 KM) on a galon (3.79 Litres) of fuel.\n",
        "\n",
        "# MSRP is the price of the vehicle that is recommended by the manufacturer."
      ],
      "execution_count": null,
      "outputs": []
    },
    {
      "cell_type": "code",
      "metadata": {
        "id": "MbvKjE_RALjj",
        "colab": {
          "base_uri": "https://localhost:8080/",
          "height": 519
        },
        "outputId": "4a16fccc-88fd-4f0c-e045-42e13b71eb32"
      },
      "source": [
        "corr = car.corr()\n",
        "\n",
        "# generate a mask for the upper triangle\n",
        "mask = np.zeros_like(corr, dtype = np.bool)\n",
        "\n",
        "# return the indices for the upper triangle of an (n,m) array\n",
        "mask[np.triu_indices_from(mask)] = True\n",
        "\n",
        "# Plot\n",
        "sns.set_style(\"white\")\n",
        "f, ax = plt.subplots(figsize=(11,7))\n",
        "plt.title(\"Correlation matrix\")\n",
        "sns.heatmap(corr, mask=mask, cmap=sns.diverging_palette(220,10, as_cmap=True),\n",
        "            square=True, vmax = 1, center = 0, linewidths = .5, cbar_kws = {\"shrink\": .5})\n",
        "\n",
        "plt.show()"
      ],
      "execution_count": null,
      "outputs": [
        {
          "output_type": "display_data",
          "data": {
            "image/png": "[encoded data removed]",
            "text/plain": [
              "<Figure size 792x504 with 2 Axes>"
            ]
          },
          "metadata": {
            "tags": []
          }
        }
      ]
    },
    {
      "cell_type": "code",
      "metadata": {
        "id": "QCrFJfVQGSGG",
        "colab": {
          "base_uri": "https://localhost:8080/"
        },
        "outputId": "add953a0-6de5-4840-f317-dbc27571b6df"
      },
      "source": [
        "car.isnull().sum()"
      ],
      "execution_count": null,
      "outputs": [
        {
          "output_type": "execute_result",
          "data": {
            "text/plain": [
              "Make                    0\n",
              "Model                   0\n",
              "Year                    0\n",
              "Engine Fuel Type        3\n",
              "Engine HP              69\n",
              "Engine Cylinders       30\n",
              "Transmission Type       0\n",
              "Driven_Wheels           0\n",
              "Number of Doors         6\n",
              "Market Category      3742\n",
              "Vehicle Size            0\n",
              "Vehicle Style           0\n",
              "highway MPG             0\n",
              "city mpg                0\n",
              "Popularity              0\n",
              "MSRP                    0\n",
              "dtype: int64"
            ]
          },
          "metadata": {
            "tags": []
          },
          "execution_count": 12
        }
      ]
    },
    {
      "cell_type": "markdown",
      "metadata": {
        "id": "ueCSHtT6RW33"
      },
      "source": [
        "# Cleaning"
      ]
    },
    {
      "cell_type": "code",
      "metadata": {
        "id": "DxbTVokHRY6H"
      },
      "source": [
        "car2 = car.copy()"
      ],
      "execution_count": null,
      "outputs": []
    },
    {
      "cell_type": "code",
      "metadata": {
        "id": "0TUA272bKW5y",
        "colab": {
          "base_uri": "https://localhost:8080/"
        },
        "outputId": "431cb718-4da7-4d08-c740-6ff56a17e1c8"
      },
      "source": [
        "car['Engine Fuel Type'].unique()"
      ],
      "execution_count": null,
      "outputs": [
        {
          "output_type": "execute_result",
          "data": {
            "text/plain": [
              "array(['premium unleaded (required)', 'regular unleaded',\n",
              "       'premium unleaded (recommended)', 'flex-fuel (unleaded/E85)',\n",
              "       'diesel', 'electric',\n",
              "       'flex-fuel (premium unleaded recommended/E85)', 'natural gas',\n",
              "       'flex-fuel (premium unleaded required/E85)',\n",
              "       'flex-fuel (unleaded/natural gas)', nan], dtype=object)"
            ]
          },
          "metadata": {
            "tags": []
          },
          "execution_count": 14
        }
      ]
    },
    {
      "cell_type": "code",
      "metadata": {
        "id": "TzZj827PLd1S"
      },
      "source": [
        "car2['Engine Fuel Type'].replace(\n",
        "    ['premium unleaded (required)', 'regular unleaded',\n",
        "     'premium unleaded (recommended)'],'unleaded',inplace=True)"
      ],
      "execution_count": null,
      "outputs": []
    },
    {
      "cell_type": "code",
      "metadata": {
        "id": "cavqtzmGRGVe"
      },
      "source": [
        "car2['Engine Fuel Type'].replace(\n",
        "    ['flex-fuel (premium unleaded recommended/E85)',\n",
        "     'flex-fuel (premium unleaded required/E85)',\n",
        "     'flex-fuel (unleaded/natural gas)',\n",
        "     'flex-fuel (unleaded/E85)'],'flex-fuel',inplace=True)"
      ],
      "execution_count": null,
      "outputs": []
    },
    {
      "cell_type": "code",
      "metadata": {
        "id": "FsbN1auZvm2K"
      },
      "source": [
        "car2['Engine Fuel Type'].fillna(car2['Engine Fuel Type'].mode()[0],inplace=True)"
      ],
      "execution_count": null,
      "outputs": []
    },
    {
      "cell_type": "code",
      "metadata": {
        "id": "-oNtXyOejlRW"
      },
      "source": [
        "car2['Engine HP'].fillna(car2['Engine HP'].mean(),inplace=True)"
      ],
      "execution_count": null,
      "outputs": []
    },
    {
      "cell_type": "code",
      "metadata": {
        "id": "3kI2I5rUvvkX"
      },
      "source": [
        "car2['Engine Cylinders'].fillna(0,inplace=True)"
      ],
      "execution_count": null,
      "outputs": []
    },
    {
      "cell_type": "code",
      "metadata": {
        "id": "kQWFaGISc148",
        "colab": {
          "base_uri": "https://localhost:8080/",
          "height": 397
        },
        "outputId": "4a9d8125-0e0d-4907-de9f-0fe51c4be449"
      },
      "source": [
        "car2[car2['Number of Doors'].isna()]\n",
        "# Ferrari FF == 3 doors\n",
        "# Tesla S    == 5 doors"
      ],
      "execution_count": null,
      "outputs": [
        {
          "output_type": "execute_result",
          "data": {
            "text/html": [
              "<div>\n",
              "<style scoped>\n",
              "    .dataframe tbody tr th:only-of-type {\n",
              "        vertical-align: middle;\n",
              "    }\n",
              "\n",
              "    .dataframe tbody tr th {\n",
              "        vertical-align: top;\n",
              "    }\n",
              "\n",
              "    .dataframe thead th {\n",
              "        text-align: right;\n",
              "    }\n",
              "</style>\n",
              "<table border=\"1\" class=\"dataframe\">\n",
              "  <thead>\n",
              "    <tr style=\"text-align: right;\">\n",
              "      <th></th>\n",
              "      <th>Make</th>\n",
              "      <th>Model</th>\n",
              "      <th>Year</th>\n",
              "      <th>Engine Fuel Type</th>\n",
              "      <th>Engine HP</th>\n",
              "      <th>Engine Cylinders</th>\n",
              "      <th>Transmission Type</th>\n",
              "      <th>Driven_Wheels</th>\n",
              "      <th>Number of Doors</th>\n",
              "      <th>Market Category</th>\n",
              "      <th>Vehicle Size</th>\n",
              "      <th>Vehicle Style</th>\n",
              "      <th>highway MPG</th>\n",
              "      <th>city mpg</th>\n",
              "      <th>Popularity</th>\n",
              "      <th>MSRP</th>\n",
              "    </tr>\n",
              "  </thead>\n",
              "  <tbody>\n",
              "    <tr>\n",
              "      <th>4666</th>\n",
              "      <td>Ferrari</td>\n",
              "      <td>FF</td>\n",
              "      <td>2013</td>\n",
              "      <td>unleaded</td>\n",
              "      <td>651.00000</td>\n",
              "      <td>12.0</td>\n",
              "      <td>AUTOMATED_MANUAL</td>\n",
              "      <td>all wheel drive</td>\n",
              "      <td>NaN</td>\n",
              "      <td>Exotic,High-Performance</td>\n",
              "      <td>Large</td>\n",
              "      <td>Coupe</td>\n",
              "      <td>16</td>\n",
              "      <td>11</td>\n",
              "      <td>2774</td>\n",
              "      <td>295000</td>\n",
              "    </tr>\n",
              "    <tr>\n",
              "      <th>6930</th>\n",
              "      <td>Tesla</td>\n",
              "      <td>Model S</td>\n",
              "      <td>2016</td>\n",
              "      <td>electric</td>\n",
              "      <td>249.38607</td>\n",
              "      <td>0.0</td>\n",
              "      <td>DIRECT_DRIVE</td>\n",
              "      <td>all wheel drive</td>\n",
              "      <td>NaN</td>\n",
              "      <td>Exotic,Performance</td>\n",
              "      <td>Large</td>\n",
              "      <td>Sedan</td>\n",
              "      <td>105</td>\n",
              "      <td>102</td>\n",
              "      <td>1391</td>\n",
              "      <td>79500</td>\n",
              "    </tr>\n",
              "    <tr>\n",
              "      <th>6931</th>\n",
              "      <td>Tesla</td>\n",
              "      <td>Model S</td>\n",
              "      <td>2016</td>\n",
              "      <td>electric</td>\n",
              "      <td>249.38607</td>\n",
              "      <td>0.0</td>\n",
              "      <td>DIRECT_DRIVE</td>\n",
              "      <td>all wheel drive</td>\n",
              "      <td>NaN</td>\n",
              "      <td>Exotic,Performance</td>\n",
              "      <td>Large</td>\n",
              "      <td>Sedan</td>\n",
              "      <td>101</td>\n",
              "      <td>98</td>\n",
              "      <td>1391</td>\n",
              "      <td>66000</td>\n",
              "    </tr>\n",
              "    <tr>\n",
              "      <th>6932</th>\n",
              "      <td>Tesla</td>\n",
              "      <td>Model S</td>\n",
              "      <td>2016</td>\n",
              "      <td>electric</td>\n",
              "      <td>249.38607</td>\n",
              "      <td>0.0</td>\n",
              "      <td>DIRECT_DRIVE</td>\n",
              "      <td>all wheel drive</td>\n",
              "      <td>NaN</td>\n",
              "      <td>Exotic,High-Performance</td>\n",
              "      <td>Large</td>\n",
              "      <td>Sedan</td>\n",
              "      <td>105</td>\n",
              "      <td>92</td>\n",
              "      <td>1391</td>\n",
              "      <td>134500</td>\n",
              "    </tr>\n",
              "    <tr>\n",
              "      <th>6933</th>\n",
              "      <td>Tesla</td>\n",
              "      <td>Model S</td>\n",
              "      <td>2016</td>\n",
              "      <td>electric</td>\n",
              "      <td>249.38607</td>\n",
              "      <td>0.0</td>\n",
              "      <td>DIRECT_DRIVE</td>\n",
              "      <td>rear wheel drive</td>\n",
              "      <td>NaN</td>\n",
              "      <td>Exotic,Performance</td>\n",
              "      <td>Large</td>\n",
              "      <td>Sedan</td>\n",
              "      <td>100</td>\n",
              "      <td>97</td>\n",
              "      <td>1391</td>\n",
              "      <td>74500</td>\n",
              "    </tr>\n",
              "    <tr>\n",
              "      <th>6934</th>\n",
              "      <td>Tesla</td>\n",
              "      <td>Model S</td>\n",
              "      <td>2016</td>\n",
              "      <td>electric</td>\n",
              "      <td>249.38607</td>\n",
              "      <td>0.0</td>\n",
              "      <td>DIRECT_DRIVE</td>\n",
              "      <td>all wheel drive</td>\n",
              "      <td>NaN</td>\n",
              "      <td>Exotic,Performance</td>\n",
              "      <td>Large</td>\n",
              "      <td>Sedan</td>\n",
              "      <td>107</td>\n",
              "      <td>101</td>\n",
              "      <td>1391</td>\n",
              "      <td>71000</td>\n",
              "    </tr>\n",
              "  </tbody>\n",
              "</table>\n",
              "</div>"
            ],
            "text/plain": [
              "         Make    Model  Year  ... city mpg  Popularity    MSRP\n",
              "4666  Ferrari       FF  2013  ...       11        2774  295000\n",
              "6930    Tesla  Model S  2016  ...      102        1391   79500\n",
              "6931    Tesla  Model S  2016  ...       98        1391   66000\n",
              "6932    Tesla  Model S  2016  ...       92        1391  134500\n",
              "6933    Tesla  Model S  2016  ...       97        1391   74500\n",
              "6934    Tesla  Model S  2016  ...      101        1391   71000\n",
              "\n",
              "[6 rows x 16 columns]"
            ]
          },
          "metadata": {
            "tags": []
          },
          "execution_count": 20
        }
      ]
    },
    {
      "cell_type": "code",
      "metadata": {
        "id": "9KmnkFFUdwuu"
      },
      "source": [
        "car2.loc[4666,'Number of Doors'] = 3\n",
        "car2.loc[6930:6934,'Number of Doors'] = 5"
      ],
      "execution_count": null,
      "outputs": []
    },
    {
      "cell_type": "code",
      "metadata": {
        "id": "tRbl8HqBi0B1"
      },
      "source": [
        "car2['Market Category'].fillna('No Category',inplace=True)"
      ],
      "execution_count": null,
      "outputs": []
    },
    {
      "cell_type": "code",
      "metadata": {
        "id": "KXmt0REueAHl",
        "colab": {
          "base_uri": "https://localhost:8080/"
        },
        "outputId": "66efa0de-81ab-4c37-a8ab-749dfc737b26"
      },
      "source": [
        "set(item for sub in [i.split(',') for i in car2['Market Category'].unique()] for item in sub)\n",
        "\n",
        "# Crossover\n",
        "# Exotic\n",
        "# Factory Tuner\n",
        "# High Performance\n",
        "# Hybrid\n",
        "# Luxury\n",
        "# No Category\n",
        "# Performance"
      ],
      "execution_count": null,
      "outputs": [
        {
          "output_type": "execute_result",
          "data": {
            "text/plain": [
              "{'Crossover',\n",
              " 'Diesel',\n",
              " 'Exotic',\n",
              " 'Factory Tuner',\n",
              " 'Flex Fuel',\n",
              " 'Hatchback',\n",
              " 'High-Performance',\n",
              " 'Hybrid',\n",
              " 'Luxury',\n",
              " 'No Category',\n",
              " 'Performance'}"
            ]
          },
          "metadata": {
            "tags": []
          },
          "execution_count": 23
        }
      ]
    },
    {
      "cell_type": "code",
      "metadata": {
        "id": "6zy-fdphkDjZ"
      },
      "source": [
        "make_mapping = {make:id for id,make in enumerate(car2['Make'].unique())}\n",
        "\n",
        "car2['Make'] = car2['Make'].map(make_mapping)"
      ],
      "execution_count": null,
      "outputs": []
    },
    {
      "cell_type": "code",
      "metadata": {
        "id": "URqPrZ4ykmb_"
      },
      "source": [
        "model_mapping = {model:id for id,model in enumerate(car2['Model'].unique())}\n",
        "\n",
        "car2['Model'] = car2['Model'].map(model_mapping)"
      ],
      "execution_count": null,
      "outputs": []
    },
    {
      "cell_type": "code",
      "metadata": {
        "id": "2SE5KxKuPFbJ",
        "colab": {
          "base_uri": "https://localhost:8080/"
        },
        "outputId": "66190629-c1d7-488a-b4f0-c2a01e3f39bd"
      },
      "source": [
        "for column in car2.select_dtypes(object).columns:\n",
        "  print(car2[column].unique())\n",
        "  print()"
      ],
      "execution_count": null,
      "outputs": [
        {
          "output_type": "stream",
          "text": [
            "['unleaded' 'flex-fuel' 'diesel' 'electric' 'natural gas']\n",
            "\n",
            "['MANUAL' 'AUTOMATIC' 'AUTOMATED_MANUAL' 'DIRECT_DRIVE' 'UNKNOWN']\n",
            "\n",
            "['rear wheel drive' 'front wheel drive' 'all wheel drive'\n",
            " 'four wheel drive']\n",
            "\n",
            "['Factory Tuner,Luxury,High-Performance' 'Luxury,Performance'\n",
            " 'Luxury,High-Performance' 'Luxury' 'Performance' 'Flex Fuel'\n",
            " 'Flex Fuel,Performance' 'No Category' 'Hatchback'\n",
            " 'Hatchback,Luxury,Performance' 'Hatchback,Luxury'\n",
            " 'Luxury,High-Performance,Hybrid' 'Diesel,Luxury' 'Hatchback,Performance'\n",
            " 'Hatchback,Factory Tuner,Performance' 'High-Performance'\n",
            " 'Factory Tuner,High-Performance' 'Exotic,High-Performance'\n",
            " 'Exotic,Factory Tuner,High-Performance' 'Factory Tuner,Performance'\n",
            " 'Crossover' 'Exotic,Luxury' 'Exotic,Luxury,High-Performance'\n",
            " 'Exotic,Luxury,Performance' 'Factory Tuner,Luxury,Performance'\n",
            " 'Flex Fuel,Luxury' 'Crossover,Luxury'\n",
            " 'Hatchback,Factory Tuner,Luxury,Performance' 'Crossover,Hatchback'\n",
            " 'Hybrid' 'Luxury,Performance,Hybrid'\n",
            " 'Crossover,Luxury,Performance,Hybrid' 'Crossover,Luxury,Performance'\n",
            " 'Exotic,Factory Tuner,Luxury,High-Performance'\n",
            " 'Flex Fuel,Luxury,High-Performance' 'Crossover,Flex Fuel' 'Diesel'\n",
            " 'Hatchback,Diesel' 'Crossover,Luxury,Diesel'\n",
            " 'Crossover,Luxury,High-Performance'\n",
            " 'Exotic,Flex Fuel,Factory Tuner,Luxury,High-Performance'\n",
            " 'Exotic,Flex Fuel,Luxury,High-Performance'\n",
            " 'Exotic,Factory Tuner,Luxury,Performance' 'Hatchback,Hybrid'\n",
            " 'Crossover,Hybrid' 'Hatchback,Luxury,Hybrid'\n",
            " 'Flex Fuel,Luxury,Performance' 'Crossover,Performance' 'Luxury,Hybrid'\n",
            " 'Crossover,Flex Fuel,Luxury,Performance' 'Crossover,Flex Fuel,Luxury'\n",
            " 'Crossover,Flex Fuel,Performance'\n",
            " 'Hatchback,Factory Tuner,High-Performance' 'Hatchback,Flex Fuel'\n",
            " 'Factory Tuner,Luxury' 'Crossover,Factory Tuner,Luxury,High-Performance'\n",
            " 'Crossover,Factory Tuner,Luxury,Performance'\n",
            " 'Crossover,Hatchback,Factory Tuner,Performance'\n",
            " 'Crossover,Hatchback,Performance' 'Flex Fuel,Hybrid'\n",
            " 'Flex Fuel,Performance,Hybrid' 'Crossover,Exotic,Luxury,High-Performance'\n",
            " 'Crossover,Exotic,Luxury,Performance' 'Exotic,Performance'\n",
            " 'Exotic,Luxury,High-Performance,Hybrid' 'Crossover,Luxury,Hybrid'\n",
            " 'Flex Fuel,Factory Tuner,Luxury,High-Performance' 'Performance,Hybrid'\n",
            " 'Crossover,Factory Tuner,Performance' 'Crossover,Diesel'\n",
            " 'Flex Fuel,Diesel' 'Crossover,Hatchback,Luxury']\n",
            "\n",
            "['Compact' 'Midsize' 'Large']\n",
            "\n",
            "['Coupe' 'Convertible' 'Sedan' 'Wagon' '4dr Hatchback' '2dr Hatchback'\n",
            " '4dr SUV' 'Passenger Minivan' 'Cargo Minivan' 'Crew Cab Pickup'\n",
            " 'Regular Cab Pickup' 'Extended Cab Pickup' '2dr SUV' 'Cargo Van'\n",
            " 'Convertible SUV' 'Passenger Van']\n",
            "\n"
          ],
          "name": "stdout"
        }
      ]
    },
    {
      "cell_type": "code",
      "metadata": {
        "id": "p6HmP_aR9Uus",
        "colab": {
          "base_uri": "https://localhost:8080/"
        },
        "outputId": "78d04c62-3ff4-4621-8ed0-93982c7809a7"
      },
      "source": [
        "car2['Vehicle Style'].unique()"
      ],
      "execution_count": null,
      "outputs": [
        {
          "output_type": "execute_result",
          "data": {
            "text/plain": [
              "array(['Coupe', 'Convertible', 'Sedan', 'Wagon', '4dr Hatchback',\n",
              "       '2dr Hatchback', '4dr SUV', 'Passenger Minivan', 'Cargo Minivan',\n",
              "       'Crew Cab Pickup', 'Regular Cab Pickup', 'Extended Cab Pickup',\n",
              "       '2dr SUV', 'Cargo Van', 'Convertible SUV', 'Passenger Van'],\n",
              "      dtype=object)"
            ]
          },
          "metadata": {
            "tags": []
          },
          "execution_count": 27
        }
      ]
    },
    {
      "cell_type": "code",
      "metadata": {
        "id": "u4RZhPiK9me2"
      },
      "source": [
        "car2['Vehicle Style'].replace(['4dr Hatchback','2dr Hatchback'],'Hatchback',inplace=True)\n",
        "car2['Vehicle Style'].replace(['Passenger Minivan', 'Cargo Minivan'],'Minivan',inplace=True)\n",
        "car2['Vehicle Style'].replace(['4dr SUV','2dr SUV','Convertible SUV'],'SUV',inplace=True)\n",
        "car2['Vehicle Style'].replace(['Crew Cab Pickup', 'Regular Cab Pickup', 'Extended Cab Pickup'],'Pickup',inplace=True)\n",
        "car2['Vehicle Style'].replace(['Cargo Van','Passenger Van'],'Van',inplace=True)"
      ],
      "execution_count": null,
      "outputs": []
    },
    {
      "cell_type": "code",
      "metadata": {
        "id": "7Endy2AXC5mm",
        "colab": {
          "base_uri": "https://localhost:8080/"
        },
        "outputId": "6fc3701d-83b7-4bdb-e660-f50792f7e07e"
      },
      "source": [
        "car2['Vehicle Style'].unique()"
      ],
      "execution_count": null,
      "outputs": [
        {
          "output_type": "execute_result",
          "data": {
            "text/plain": [
              "array(['Coupe', 'Convertible', 'Sedan', 'Wagon', 'Hatchback', 'SUV',\n",
              "       'Minivan', 'Pickup', 'Van'], dtype=object)"
            ]
          },
          "metadata": {
            "tags": []
          },
          "execution_count": 29
        }
      ]
    },
    {
      "cell_type": "code",
      "metadata": {
        "id": "GrnNsNGVHCsg",
        "colab": {
          "base_uri": "https://localhost:8080/"
        },
        "outputId": "11517f27-f3fb-4c3b-8efc-7de45b3f2e24"
      },
      "source": [
        "car2.info()"
      ],
      "execution_count": null,
      "outputs": [
        {
          "output_type": "stream",
          "text": [
            "<class 'pandas.core.frame.DataFrame'>\n",
            "RangeIndex: 11914 entries, 0 to 11913\n",
            "Data columns (total 16 columns):\n",
            " #   Column             Non-Null Count  Dtype  \n",
            "---  ------             --------------  -----  \n",
            " 0   Make               11914 non-null  int64  \n",
            " 1   Model              11914 non-null  int64  \n",
            " 2   Year               11914 non-null  int64  \n",
            " 3   Engine Fuel Type   11914 non-null  object \n",
            " 4   Engine HP          11914 non-null  float64\n",
            " 5   Engine Cylinders   11914 non-null  float64\n",
            " 6   Transmission Type  11914 non-null  object \n",
            " 7   Driven_Wheels      11914 non-null  object \n",
            " 8   Number of Doors    11914 non-null  float64\n",
            " 9   Market Category    11914 non-null  object \n",
            " 10  Vehicle Size       11914 non-null  object \n",
            " 11  Vehicle Style      11914 non-null  object \n",
            " 12  highway MPG        11914 non-null  int64  \n",
            " 13  city mpg           11914 non-null  int64  \n",
            " 14  Popularity         11914 non-null  int64  \n",
            " 15  MSRP               11914 non-null  int64  \n",
            "dtypes: float64(3), int64(7), object(6)\n",
            "memory usage: 1.5+ MB\n"
          ],
          "name": "stdout"
        }
      ]
    },
    {
      "cell_type": "code",
      "metadata": {
        "id": "ev9dy1ewC__b",
        "colab": {
          "base_uri": "https://localhost:8080/"
        },
        "outputId": "4b04827f-b556-4839-8452-470769cae5ac"
      },
      "source": [
        "car3 = car2.copy()\n",
        "\n",
        "for col in ['Engine Fuel Type','Transmission Type','Driven_Wheels','Vehicle Size','Vehicle Style']:\n",
        "  car3.drop(col,axis =1,inplace=True)\n",
        "  car3 = pd.concat([car3,pd.get_dummies(car2[col],drop_first=True)],axis=1)\n",
        "\n",
        "car3.info()"
      ],
      "execution_count": null,
      "outputs": [
        {
          "output_type": "stream",
          "text": [
            "<class 'pandas.core.frame.DataFrame'>\n",
            "RangeIndex: 11914 entries, 0 to 11913\n",
            "Data columns (total 32 columns):\n",
            " #   Column             Non-Null Count  Dtype  \n",
            "---  ------             --------------  -----  \n",
            " 0   Make               11914 non-null  int64  \n",
            " 1   Model              11914 non-null  int64  \n",
            " 2   Year               11914 non-null  int64  \n",
            " 3   Engine HP          11914 non-null  float64\n",
            " 4   Engine Cylinders   11914 non-null  float64\n",
            " 5   Number of Doors    11914 non-null  float64\n",
            " 6   Market Category    11914 non-null  object \n",
            " 7   highway MPG        11914 non-null  int64  \n",
            " 8   city mpg           11914 non-null  int64  \n",
            " 9   Popularity         11914 non-null  int64  \n",
            " 10  MSRP               11914 non-null  int64  \n",
            " 11  electric           11914 non-null  uint8  \n",
            " 12  flex-fuel          11914 non-null  uint8  \n",
            " 13  natural gas        11914 non-null  uint8  \n",
            " 14  unleaded           11914 non-null  uint8  \n",
            " 15  AUTOMATIC          11914 non-null  uint8  \n",
            " 16  DIRECT_DRIVE       11914 non-null  uint8  \n",
            " 17  MANUAL             11914 non-null  uint8  \n",
            " 18  UNKNOWN            11914 non-null  uint8  \n",
            " 19  four wheel drive   11914 non-null  uint8  \n",
            " 20  front wheel drive  11914 non-null  uint8  \n",
            " 21  rear wheel drive   11914 non-null  uint8  \n",
            " 22  Large              11914 non-null  uint8  \n",
            " 23  Midsize            11914 non-null  uint8  \n",
            " 24  Coupe              11914 non-null  uint8  \n",
            " 25  Hatchback          11914 non-null  uint8  \n",
            " 26  Minivan            11914 non-null  uint8  \n",
            " 27  Pickup             11914 non-null  uint8  \n",
            " 28  SUV                11914 non-null  uint8  \n",
            " 29  Sedan              11914 non-null  uint8  \n",
            " 30  Van                11914 non-null  uint8  \n",
            " 31  Wagon              11914 non-null  uint8  \n",
            "dtypes: float64(3), int64(7), object(1), uint8(21)\n",
            "memory usage: 1.2+ MB\n"
          ],
          "name": "stdout"
        }
      ]
    },
    {
      "cell_type": "code",
      "metadata": {
        "id": "3SW4EVR8HL7f",
        "colab": {
          "base_uri": "https://localhost:8080/"
        },
        "outputId": "c9df15c1-34ef-412c-bb92-30d32008bb32"
      },
      "source": [
        "for col in ['Crossover', 'Exotic', 'Factory Tuner', 'High-Performance', 'Hybrid', 'Luxury', 'No Category','Performance']:\n",
        "  for i in range(len(car3)):\n",
        "    if col in car3.loc[i,'Market Category']:\n",
        "      car3.loc[i,col] = 1\n",
        "    else:\n",
        "      car3.loc[i,col] = 0\n",
        "\n",
        "car3.info()"
      ],
      "execution_count": null,
      "outputs": [
        {
          "output_type": "stream",
          "text": [
            "<class 'pandas.core.frame.DataFrame'>\n",
            "RangeIndex: 11914 entries, 0 to 11913\n",
            "Data columns (total 40 columns):\n",
            " #   Column             Non-Null Count  Dtype  \n",
            "---  ------             --------------  -----  \n",
            " 0   Make               11914 non-null  int64  \n",
            " 1   Model              11914 non-null  int64  \n",
            " 2   Year               11914 non-null  int64  \n",
            " 3   Engine HP          11914 non-null  float64\n",
            " 4   Engine Cylinders   11914 non-null  float64\n",
            " 5   Number of Doors    11914 non-null  float64\n",
            " 6   Market Category    11914 non-null  object \n",
            " 7   highway MPG        11914 non-null  int64  \n",
            " 8   city mpg           11914 non-null  int64  \n",
            " 9   Popularity         11914 non-null  int64  \n",
            " 10  MSRP               11914 non-null  int64  \n",
            " 11  electric           11914 non-null  uint8  \n",
            " 12  flex-fuel          11914 non-null  uint8  \n",
            " 13  natural gas        11914 non-null  uint8  \n",
            " 14  unleaded           11914 non-null  uint8  \n",
            " 15  AUTOMATIC          11914 non-null  uint8  \n",
            " 16  DIRECT_DRIVE       11914 non-null  uint8  \n",
            " 17  MANUAL             11914 non-null  uint8  \n",
            " 18  UNKNOWN            11914 non-null  uint8  \n",
            " 19  four wheel drive   11914 non-null  uint8  \n",
            " 20  front wheel drive  11914 non-null  uint8  \n",
            " 21  rear wheel drive   11914 non-null  uint8  \n",
            " 22  Large              11914 non-null  uint8  \n",
            " 23  Midsize            11914 non-null  uint8  \n",
            " 24  Coupe              11914 non-null  uint8  \n",
            " 25  Hatchback          11914 non-null  uint8  \n",
            " 26  Minivan            11914 non-null  uint8  \n",
            " 27  Pickup             11914 non-null  uint8  \n",
            " 28  SUV                11914 non-null  uint8  \n",
            " 29  Sedan              11914 non-null  uint8  \n",
            " 30  Van                11914 non-null  uint8  \n",
            " 31  Wagon              11914 non-null  uint8  \n",
            " 32  Crossover          11914 non-null  float64\n",
            " 33  Exotic             11914 non-null  float64\n",
            " 34  Factory Tuner      11914 non-null  float64\n",
            " 35  High-Performance   11914 non-null  float64\n",
            " 36  Hybrid             11914 non-null  float64\n",
            " 37  Luxury             11914 non-null  float64\n",
            " 38  No Category        11914 non-null  float64\n",
            " 39  Performance        11914 non-null  float64\n",
            "dtypes: float64(11), int64(7), object(1), uint8(21)\n",
            "memory usage: 2.0+ MB\n"
          ],
          "name": "stdout"
        }
      ]
    },
    {
      "cell_type": "code",
      "metadata": {
        "id": "sRVvhqCGx8WP"
      },
      "source": [
        "car3.drop('Market Category',axis=1,inplace=True)"
      ],
      "execution_count": null,
      "outputs": []
    },
    {
      "cell_type": "code",
      "metadata": {
        "id": "HUrSbVjVyBOH"
      },
      "source": [
        "# car3.to_excel('car3.xlsx')"
      ],
      "execution_count": null,
      "outputs": []
    },
    {
      "cell_type": "code",
      "metadata": {
        "id": "zbt8j29HNIl1",
        "colab": {
          "base_uri": "https://localhost:8080/"
        },
        "outputId": "72112456-c0f4-4af8-8d68-51b746808a28"
      },
      "source": [
        "car3.corr()['MSRP']"
      ],
      "execution_count": null,
      "outputs": [
        {
          "output_type": "execute_result",
          "data": {
            "text/plain": [
              "Make                 0.047817\n",
              "Model               -0.027905\n",
              "Year                 0.227590\n",
              "Engine HP            0.661644\n",
              "Engine Cylinders     0.526274\n",
              "Number of Doors     -0.126060\n",
              "highway MPG         -0.160043\n",
              "city mpg            -0.157676\n",
              "Popularity          -0.048476\n",
              "MSRP                 1.000000\n",
              "electric             0.009125\n",
              "flex-fuel            0.013789\n",
              "natural gas         -0.002701\n",
              "unleaded            -0.014852\n",
              "AUTOMATIC            0.012912\n",
              "DIRECT_DRIVE         0.008517\n",
              "MANUAL              -0.132511\n",
              "UNKNOWN             -0.024971\n",
              "four wheel drive    -0.032110\n",
              "front wheel drive   -0.239131\n",
              "rear wheel drive     0.151225\n",
              "Large                0.121949\n",
              "Midsize             -0.019749\n",
              "Coupe                0.199526\n",
              "Hatchback           -0.114565\n",
              "Minivan             -0.053835\n",
              "Pickup              -0.092868\n",
              "SUV                 -0.017812\n",
              "Sedan               -0.012916\n",
              "Van                 -0.040052\n",
              "Wagon               -0.057205\n",
              "Crossover           -0.029908\n",
              "Exotic               0.665619\n",
              "Factory Tuner        0.170867\n",
              "High-Performance     0.484626\n",
              "Hybrid              -0.005512\n",
              "Luxury               0.233791\n",
              "No Category         -0.232293\n",
              "Performance          0.358449\n",
              "Name: MSRP, dtype: float64"
            ]
          },
          "metadata": {
            "tags": []
          },
          "execution_count": 35
        }
      ]
    },
    {
      "cell_type": "code",
      "metadata": {
        "id": "YISASF8h4xb9",
        "colab": {
          "base_uri": "https://localhost:8080/",
          "height": 726
        },
        "outputId": "abb8c488-5165-4def-a41c-9ca0d1342fa1"
      },
      "source": [
        "sns.pairplot(car3[['Engine HP','highway MPG','city mpg','MSRP']])\r\n",
        "plt.show()"
      ],
      "execution_count": null,
      "outputs": [
        {
          "output_type": "display_data",
          "data": {
            "image/png": "[encoded data removed]",
            "text/plain": [
              "<Figure size 720x720 with 20 Axes>"
            ]
          },
          "metadata": {
            "tags": []
          }
        }
      ]
    },
    {
      "cell_type": "code",
      "metadata": {
        "id": "PlGTDEbsOm6E",
        "colab": {
          "base_uri": "https://localhost:8080/",
          "height": 367
        },
        "outputId": "0b764b97-2fb9-42b1-e86d-15d67e73b1e2"
      },
      "source": [
        "sns.heatmap(car3.corr())"
      ],
      "execution_count": null,
      "outputs": [
        {
          "output_type": "execute_result",
          "data": {
            "text/plain": [
              "<matplotlib.axes._subplots.AxesSubplot at 0x7fc0cc42eef0>"
            ]
          },
          "metadata": {
            "tags": []
          },
          "execution_count": 37
        },
        {
          "output_type": "display_data",
          "data": {
            "image/png": "[encoded data removed]",
            "text/plain": [
              "<Figure size 432x288 with 2 Axes>"
            ]
          },
          "metadata": {
            "tags": []
          }
        }
      ]
    },
    {
      "cell_type": "code",
      "metadata": {
        "id": "weoJNjNCHmso"
      },
      "source": [
        "X = car3.drop('MSRP',1)\r\n",
        "y = car3['MSRP']"
      ],
      "execution_count": null,
      "outputs": []
    },
    {
      "cell_type": "code",
      "metadata": {
        "id": "ceuHZcWsTvSl",
        "colab": {
          "base_uri": "https://localhost:8080/",
          "height": 167
        },
        "outputId": "5dac25f2-b494-4440-a9ef-a7faec6c63e3"
      },
      "source": [
        "from statsmodels.stats.outliers_influence import variance_inflation_factor\r\n",
        "\r\n",
        "def calc_vif(X):\r\n",
        "\r\n",
        "    # Calculating VIF\r\n",
        "    vif = pd.DataFrame()\r\n",
        "    vif[\"variables\"] = X.columns\r\n",
        "    vif[\"VIF\"] = [round(variance_inflation_factor(X.values, i)) for i in range(X.shape[1])]\r\n",
        "\r\n",
        "    return(vif)\r\n",
        "\r\n",
        "\r\n",
        "calc_vif(X).T"
      ],
      "execution_count": null,
      "outputs": [
        {
          "output_type": "execute_result",
          "data": {
            "text/html": [
              "<div>\n",
              "<style scoped>\n",
              "    .dataframe tbody tr th:only-of-type {\n",
              "        vertical-align: middle;\n",
              "    }\n",
              "\n",
              "    .dataframe tbody tr th {\n",
              "        vertical-align: top;\n",
              "    }\n",
              "\n",
              "    .dataframe thead th {\n",
              "        text-align: right;\n",
              "    }\n",
              "</style>\n",
              "<table border=\"1\" class=\"dataframe\">\n",
              "  <thead>\n",
              "    <tr style=\"text-align: right;\">\n",
              "      <th></th>\n",
              "      <th>0</th>\n",
              "      <th>1</th>\n",
              "      <th>2</th>\n",
              "      <th>3</th>\n",
              "      <th>4</th>\n",
              "      <th>5</th>\n",
              "      <th>6</th>\n",
              "      <th>7</th>\n",
              "      <th>8</th>\n",
              "      <th>9</th>\n",
              "      <th>10</th>\n",
              "      <th>11</th>\n",
              "      <th>12</th>\n",
              "      <th>13</th>\n",
              "      <th>14</th>\n",
              "      <th>15</th>\n",
              "      <th>16</th>\n",
              "      <th>17</th>\n",
              "      <th>18</th>\n",
              "      <th>19</th>\n",
              "      <th>20</th>\n",
              "      <th>21</th>\n",
              "      <th>22</th>\n",
              "      <th>23</th>\n",
              "      <th>24</th>\n",
              "      <th>25</th>\n",
              "      <th>26</th>\n",
              "      <th>27</th>\n",
              "      <th>28</th>\n",
              "    </tr>\n",
              "  </thead>\n",
              "  <tbody>\n",
              "    <tr>\n",
              "      <th>variables</th>\n",
              "      <td>Make</td>\n",
              "      <td>Model</td>\n",
              "      <td>Popularity</td>\n",
              "      <td>flex-fuel</td>\n",
              "      <td>natural gas</td>\n",
              "      <td>DIRECT_DRIVE</td>\n",
              "      <td>MANUAL</td>\n",
              "      <td>UNKNOWN</td>\n",
              "      <td>four wheel drive</td>\n",
              "      <td>front wheel drive</td>\n",
              "      <td>rear wheel drive</td>\n",
              "      <td>Large</td>\n",
              "      <td>Midsize</td>\n",
              "      <td>Coupe</td>\n",
              "      <td>Hatchback</td>\n",
              "      <td>Minivan</td>\n",
              "      <td>Pickup</td>\n",
              "      <td>SUV</td>\n",
              "      <td>Sedan</td>\n",
              "      <td>Van</td>\n",
              "      <td>Wagon</td>\n",
              "      <td>Crossover</td>\n",
              "      <td>Exotic</td>\n",
              "      <td>Factory Tuner</td>\n",
              "      <td>High-Performance</td>\n",
              "      <td>Hybrid</td>\n",
              "      <td>Luxury</td>\n",
              "      <td>No Category</td>\n",
              "      <td>Performance</td>\n",
              "    </tr>\n",
              "    <tr>\n",
              "      <th>VIF</th>\n",
              "      <td>5</td>\n",
              "      <td>4</td>\n",
              "      <td>2</td>\n",
              "      <td>2</td>\n",
              "      <td>1</td>\n",
              "      <td>1</td>\n",
              "      <td>2</td>\n",
              "      <td>1</td>\n",
              "      <td>3</td>\n",
              "      <td>4</td>\n",
              "      <td>3</td>\n",
              "      <td>2</td>\n",
              "      <td>3</td>\n",
              "      <td>2</td>\n",
              "      <td>2</td>\n",
              "      <td>2</td>\n",
              "      <td>4</td>\n",
              "      <td>7</td>\n",
              "      <td>4</td>\n",
              "      <td>2</td>\n",
              "      <td>2</td>\n",
              "      <td>4</td>\n",
              "      <td>2</td>\n",
              "      <td>1</td>\n",
              "      <td>2</td>\n",
              "      <td>1</td>\n",
              "      <td>2</td>\n",
              "      <td>4</td>\n",
              "      <td>3</td>\n",
              "    </tr>\n",
              "  </tbody>\n",
              "</table>\n",
              "</div>"
            ],
            "text/plain": [
              "             0      1           2   ...      26           27           28\n",
              "variables  Make  Model  Popularity  ...  Luxury  No Category  Performance\n",
              "VIF           5      4           2  ...       2            4            3\n",
              "\n",
              "[2 rows x 29 columns]"
            ]
          },
          "metadata": {
            "tags": []
          },
          "execution_count": 103
        }
      ]
    },
    {
      "cell_type": "code",
      "metadata": {
        "id": "HFX2fYhBuhiO"
      },
      "source": [
        "X.drop(['Year','city mpg','highway MPG','Number of Doors','unleaded',\r\n",
        "        'Engine Cylinders','electric','Engine HP','AUTOMATIC'],axis=1,inplace=True)"
      ],
      "execution_count": null,
      "outputs": []
    },
    {
      "cell_type": "code",
      "metadata": {
        "id": "D_PFlpug3exa",
        "colab": {
          "base_uri": "https://localhost:8080/"
        },
        "outputId": "41e3d96e-d931-4e77-879c-7c7170417a83"
      },
      "source": [
        "from sklearn.model_selection import train_test_split as tts\r\n",
        "\r\n",
        "Xtr, Xts, ytr, yts = tts(X,y,test_size=0.3,random_state=0,shuffle=True)\r\n",
        "Xtr.shape,Xts.shape,ytr.shape,yts.shape"
      ],
      "execution_count": null,
      "outputs": [
        {
          "output_type": "execute_result",
          "data": {
            "text/plain": [
              "((8339, 29), (3575, 29), (8339,), (3575,))"
            ]
          },
          "metadata": {
            "tags": []
          },
          "execution_count": 102
        }
      ]
    },
    {
      "cell_type": "code",
      "metadata": {
        "id": "lOAeblXp4Tg6",
        "colab": {
          "base_uri": "https://localhost:8080/"
        },
        "outputId": "154a449a-2dc2-47f8-a6f3-25b12e69bdaf"
      },
      "source": [
        "from sklearn.metrics import mean_absolute_error\r\n",
        "from sklearn.metrics import mean_squared_error\r\n",
        "from sklearn.metrics import r2_score\r\n",
        "from sklearn import linear_model\r\n",
        "\r\n",
        "regr = linear_model.LinearRegression()\r\n",
        "regr.fit(Xtr,ytr)\r\n",
        "ypr = regr.predict(Xts)\r\n",
        "\r\n",
        "print(\"R squared: {}\".format(r2_score(y_true=yts,y_pred=ypr)))\r\n",
        "\r\n",
        "residuals = yts.values-ypr\r\n",
        "mean_residuals = np.mean(residuals)\r\n",
        "print(\"Mean of Residuals {}\".format(mean_residuals))\r\n",
        "# mean of residual very close to 0"
      ],
      "execution_count": null,
      "outputs": [
        {
          "output_type": "stream",
          "text": [
            "R squared: 0.7031434453070902\n",
            "Mean of Residuals -1079.9295221905652\n"
          ],
          "name": "stdout"
        }
      ]
    },
    {
      "cell_type": "code",
      "metadata": {
        "id": "mEGPzQ2fw5EN",
        "colab": {
          "base_uri": "https://localhost:8080/"
        },
        "outputId": "09ad2e64-0b33-4734-cecb-039e24ff5938"
      },
      "source": [
        "from sklearn.ensemble import RandomForestRegressor\r\n",
        "\r\n",
        "rf = RandomForestRegressor(random_state=0)\r\n",
        "rf.fit(Xtr,ytr)\r\n",
        "ypr = rf.predict(Xts)\r\n",
        "print(\"Accuracy: {}\".format(rf.score(Xts,yts)))\r\n",
        "print(\"R squared: {}\".format(r2_score(y_true=yts,y_pred=ypr)))"
      ],
      "execution_count": null,
      "outputs": [
        {
          "output_type": "stream",
          "text": [
            "Accuracy: 0.9140272047460736\n",
            "R squared: 0.9140272047460736\n"
          ],
          "name": "stdout"
        }
      ]
    },
    {
      "cell_type": "code",
      "metadata": {
        "id": "RHBQeieM4OsK",
        "colab": {
          "base_uri": "https://localhost:8080/",
          "height": 334
        },
        "outputId": "f63cad16-f944-4852-bb90-c7830877b50f"
      },
      "source": [
        "plt.figure(figsize=(8,5))\r\n",
        "sns.scatterplot(x=yts,y=ypr)\r\n",
        "sns.lineplot(x=[min(yts),max(yts)],y=[min(ypr),max(ypr)],color='r')\r\n",
        "plt.xlabel('Actual')\r\n",
        "plt.ylabel('Predicted')\r\n",
        "plt.show()"
      ],
      "execution_count": null,
      "outputs": [
        {
          "output_type": "display_data",
          "data": {
            "image/png": "[encoded data removed]",
            "text/plain": [
              "<Figure size 576x360 with 1 Axes>"
            ]
          },
          "metadata": {
            "tags": []
          }
        }
      ]
    },
    {
      "cell_type": "code",
      "metadata": {
        "id": "c14jRcbs0-wz",
        "colab": {
          "base_uri": "https://localhost:8080/"
        },
        "outputId": "5282be2a-b023-4d29-95a7-dccaab0ba31f"
      },
      "source": [
        "from xgboost import XGBRegressor,XGBRFRegressor\r\n",
        "xgbr = XGBRegressor(colsample_bytree=0.7,learning_rate=0.07,max_depth=5,\r\n",
        "                    min_child_weight=4,n_estimators=500,\r\n",
        "                    nthread=4,reg='linear',silent=1,subsample='0.7',random_state=0)\r\n",
        "xgbr.fit(Xtr,ytr)\r\n",
        "yprx = xgbr.predict(Xts)\r\n",
        "print(\"Accuracy: {}\".format(xgbr.score(Xts,yts)))\r\n",
        "print(\"R squared: {}\".format(r2_score(y_true=yts,y_pred=yprx)))"
      ],
      "execution_count": null,
      "outputs": [
        {
          "output_type": "stream",
          "text": [
            "Accuracy: 0.8929622959036146\n",
            "R squared: 0.8929622959036146\n"
          ],
          "name": "stdout"
        }
      ]
    },
    {
      "cell_type": "code",
      "metadata": {
        "id": "Sg0mn4kdBRs9",
        "colab": {
          "base_uri": "https://localhost:8080/",
          "height": 334
        },
        "outputId": "75fe4cb4-f05b-457c-c98e-dadb70f999f6"
      },
      "source": [
        "plt.figure(figsize=(8,5))\r\n",
        "sns.scatterplot(x=yts,y=yprx)\r\n",
        "sns.lineplot(x=[min(yts),max(yts)],y=[min(ypr),max(ypr)],color='r')\r\n",
        "plt.xlabel('Actual')\r\n",
        "plt.ylabel('Predicted')\r\n",
        "plt.show()"
      ],
      "execution_count": null,
      "outputs": [
        {
          "output_type": "display_data",
          "data": {
            "image/png": "[encoded data removed]",
            "text/plain": [
              "<Figure size 576x360 with 1 Axes>"
            ]
          },
          "metadata": {
            "tags": []
          }
        }
      ]
    },
    {
      "cell_type": "code",
      "metadata": {
        "id": "Ntxft294tF1z"
      },
      "source": [
        ""
      ],
      "execution_count": null,
      "outputs": []
    }
  ]
}
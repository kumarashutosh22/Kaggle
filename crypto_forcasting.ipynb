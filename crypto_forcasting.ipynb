{
  "nbformat": 4,
  "nbformat_minor": 0,
  "metadata": {
    "colab": {
      "name": "crypto_forcasting.ipynb",
      "provenance": [],
      "collapsed_sections": [],
      "authorship_tag": "ABX9TyPUqP7j+Re71qyQtD40qRRq"
    },
    "kernelspec": {
      "name": "python3",
      "display_name": "Python 3"
    },
    "language_info": {
      "name": "python"
    }
  },
  "cells": [
    {
      "cell_type": "code",
      "source": [
        "!mkdir ~/.kaggle\n",
        "!mv kaggle.json ~/.kaggle\n",
        "!chmod 600 ~/.kaggle/kaggle.json"
      ],
      "metadata": {
        "id": "ASlYlK3Vo532"
      },
      "execution_count": null,
      "outputs": []
    },
    {
      "cell_type": "code",
      "source": [
        "!kaggle competitions download -c g-research-crypto-forecasting"
      ],
      "metadata": {
        "colab": {
          "base_uri": "https://localhost:8080/"
        },
        "id": "C1khhejkj8CO",
        "outputId": "c0934c4f-53d4-43a5-e597-9662d917ff30"
      },
      "execution_count": null,
      "outputs": [
        {
          "output_type": "stream",
          "name": "stdout",
          "text": [
            "Warning: Looks like you're using an outdated API Version, please consider updating (server 1.5.12 / client 1.5.4)\n",
            "Downloading __init__.py to /content\n",
            "  0% 0.00/59.0 [00:00<?, ?B/s]\n",
            "100% 59.0/59.0 [00:00<00:00, 124kB/s]\n",
            "Downloading competition.cpython-37m-x86_64-linux-gnu.so to /content\n",
            "  0% 0.00/660k [00:00<?, ?B/s]\n",
            "100% 660k/660k [00:00<00:00, 39.4MB/s]\n",
            "Downloading asset_details.csv to /content\n",
            "  0% 0.00/444 [00:00<?, ?B/s]\n",
            "100% 444/444 [00:00<00:00, 1.01MB/s]\n",
            "Downloading example_test.csv to /content\n",
            "  0% 0.00/5.78k [00:00<?, ?B/s]\n",
            "100% 5.78k/5.78k [00:00<00:00, 15.0MB/s]\n",
            "Downloading train.csv.zip to /content\n",
            " 98% 1.00G/1.02G [00:08<00:00, 220MB/s]\n",
            "100% 1.02G/1.02G [00:08<00:00, 134MB/s]\n",
            "Downloading supplemental_train.csv.zip to /content\n",
            " 96% 90.0M/94.2M [00:00<00:00, 144MB/s]\n",
            "100% 94.2M/94.2M [00:00<00:00, 181MB/s]\n",
            "Downloading example_sample_submission.csv to /content\n",
            "  0% 0.00/406 [00:00<?, ?B/s]\n",
            "100% 406/406 [00:00<00:00, 372kB/s]\n"
          ]
        }
      ]
    },
    {
      "cell_type": "code",
      "source": [
        "!unzip supplemental_train.csv.zip\n",
        "!unzip train.csv.zip"
      ],
      "metadata": {
        "colab": {
          "base_uri": "https://localhost:8080/"
        },
        "id": "ZedIydPWp3d7",
        "outputId": "ff57b84e-0b79-4939-f624-1f0cf0287e2b"
      },
      "execution_count": null,
      "outputs": [
        {
          "output_type": "stream",
          "name": "stdout",
          "text": [
            "Archive:  supplemental_train.csv.zip\n",
            "  inflating: supplemental_train.csv  \n",
            "Archive:  train.csv.zip\n",
            "  inflating: train.csv               \n"
          ]
        }
      ]
    },
    {
      "cell_type": "code",
      "source": [
        "!rm supplemental_train.csv.zip\n",
        "!rm train.csv.zip"
      ],
      "metadata": {
        "id": "vgErCOaZrINV"
      },
      "execution_count": null,
      "outputs": []
    },
    {
      "cell_type": "code",
      "execution_count": null,
      "metadata": {
        "id": "fGnrN3IRjjRK"
      },
      "outputs": [],
      "source": [
        "import numpy as np\n",
        "import pandas as pd\n",
        "\n"
      ]
    },
    {
      "cell_type": "code",
      "source": [
        "ad = pd.read_csv(\"asset_details.csv\")\n",
        "ad.T"
      ],
      "metadata": {
        "colab": {
          "base_uri": "https://localhost:8080/",
          "height": 143
        },
        "id": "l5VOlRjFj2nJ",
        "outputId": "768b217f-c706-411d-d095-9a5cbb467a97"
      },
      "execution_count": null,
      "outputs": [
        {
          "output_type": "execute_result",
          "data": {
            "text/html": [
              "\n",
              "  <div id=\"df-0f8b2c23-336b-48be-8fc4-90a40b8dc1ba\">\n",
              "    <div class=\"colab-df-container\">\n",
              "      <div>\n",
              "<style scoped>\n",
              "    .dataframe tbody tr th:only-of-type {\n",
              "        vertical-align: middle;\n",
              "    }\n",
              "\n",
              "    .dataframe tbody tr th {\n",
              "        vertical-align: top;\n",
              "    }\n",
              "\n",
              "    .dataframe thead th {\n",
              "        text-align: right;\n",
              "    }\n",
              "</style>\n",
              "<table border=\"1\" class=\"dataframe\">\n",
              "  <thead>\n",
              "    <tr style=\"text-align: right;\">\n",
              "      <th></th>\n",
              "      <th>0</th>\n",
              "      <th>1</th>\n",
              "      <th>2</th>\n",
              "      <th>3</th>\n",
              "      <th>4</th>\n",
              "      <th>5</th>\n",
              "      <th>6</th>\n",
              "      <th>7</th>\n",
              "      <th>8</th>\n",
              "      <th>9</th>\n",
              "      <th>10</th>\n",
              "      <th>11</th>\n",
              "      <th>12</th>\n",
              "      <th>13</th>\n",
              "    </tr>\n",
              "  </thead>\n",
              "  <tbody>\n",
              "    <tr>\n",
              "      <th>Asset_ID</th>\n",
              "      <td>2</td>\n",
              "      <td>0</td>\n",
              "      <td>1</td>\n",
              "      <td>5</td>\n",
              "      <td>7</td>\n",
              "      <td>6</td>\n",
              "      <td>9</td>\n",
              "      <td>11</td>\n",
              "      <td>13</td>\n",
              "      <td>12</td>\n",
              "      <td>3</td>\n",
              "      <td>8</td>\n",
              "      <td>10</td>\n",
              "      <td>4</td>\n",
              "    </tr>\n",
              "    <tr>\n",
              "      <th>Weight</th>\n",
              "      <td>2.3979</td>\n",
              "      <td>4.30407</td>\n",
              "      <td>6.77992</td>\n",
              "      <td>1.38629</td>\n",
              "      <td>2.07944</td>\n",
              "      <td>5.8944</td>\n",
              "      <td>2.3979</td>\n",
              "      <td>1.60944</td>\n",
              "      <td>1.79176</td>\n",
              "      <td>2.07944</td>\n",
              "      <td>4.40672</td>\n",
              "      <td>1.09861</td>\n",
              "      <td>1.09861</td>\n",
              "      <td>3.55535</td>\n",
              "    </tr>\n",
              "    <tr>\n",
              "      <th>Asset_Name</th>\n",
              "      <td>Bitcoin Cash</td>\n",
              "      <td>Binance Coin</td>\n",
              "      <td>Bitcoin</td>\n",
              "      <td>EOS.IO</td>\n",
              "      <td>Ethereum Classic</td>\n",
              "      <td>Ethereum</td>\n",
              "      <td>Litecoin</td>\n",
              "      <td>Monero</td>\n",
              "      <td>TRON</td>\n",
              "      <td>Stellar</td>\n",
              "      <td>Cardano</td>\n",
              "      <td>IOTA</td>\n",
              "      <td>Maker</td>\n",
              "      <td>Dogecoin</td>\n",
              "    </tr>\n",
              "  </tbody>\n",
              "</table>\n",
              "</div>\n",
              "      <button class=\"colab-df-convert\" onclick=\"convertToInteractive('df-0f8b2c23-336b-48be-8fc4-90a40b8dc1ba')\"\n",
              "              title=\"Convert this dataframe to an interactive table.\"\n",
              "              style=\"display:none;\">\n",
              "        \n",
              "  <svg xmlns=\"http://www.w3.org/2000/svg\" height=\"24px\"viewBox=\"0 0 24 24\"\n",
              "       width=\"24px\">\n",
              "    <path d=\"M0 0h24v24H0V0z\" fill=\"none\"/>\n",
              "    <path d=\"M18.56 5.44l.94 2.06.94-2.06 2.06-.94-2.06-.94-.94-2.06-.94 2.06-2.06.94zm-11 1L8.5 8.5l.94-2.06 2.06-.94-2.06-.94L8.5 2.5l-.94 2.06-2.06.94zm10 10l.94 2.06.94-2.06 2.06-.94-2.06-.94-.94-2.06-.94 2.06-2.06.94z\"/><path d=\"M17.41 7.96l-1.37-1.37c-.4-.4-.92-.59-1.43-.59-.52 0-1.04.2-1.43.59L10.3 9.45l-7.72 7.72c-.78.78-.78 2.05 0 2.83L4 21.41c.39.39.9.59 1.41.59.51 0 1.02-.2 1.41-.59l7.78-7.78 2.81-2.81c.8-.78.8-2.07 0-2.86zM5.41 20L4 18.59l7.72-7.72 1.47 1.35L5.41 20z\"/>\n",
              "  </svg>\n",
              "      </button>\n",
              "      \n",
              "  <style>\n",
              "    .colab-df-container {\n",
              "      display:flex;\n",
              "      flex-wrap:wrap;\n",
              "      gap: 12px;\n",
              "    }\n",
              "\n",
              "    .colab-df-convert {\n",
              "      background-color: #E8F0FE;\n",
              "      border: none;\n",
              "      border-radius: 50%;\n",
              "      cursor: pointer;\n",
              "      display: none;\n",
              "      fill: #1967D2;\n",
              "      height: 32px;\n",
              "      padding: 0 0 0 0;\n",
              "      width: 32px;\n",
              "    }\n",
              "\n",
              "    .colab-df-convert:hover {\n",
              "      background-color: #E2EBFA;\n",
              "      box-shadow: 0px 1px 2px rgba(60, 64, 67, 0.3), 0px 1px 3px 1px rgba(60, 64, 67, 0.15);\n",
              "      fill: #174EA6;\n",
              "    }\n",
              "\n",
              "    [theme=dark] .colab-df-convert {\n",
              "      background-color: #3B4455;\n",
              "      fill: #D2E3FC;\n",
              "    }\n",
              "\n",
              "    [theme=dark] .colab-df-convert:hover {\n",
              "      background-color: #434B5C;\n",
              "      box-shadow: 0px 1px 3px 1px rgba(0, 0, 0, 0.15);\n",
              "      filter: drop-shadow(0px 1px 2px rgba(0, 0, 0, 0.3));\n",
              "      fill: #FFFFFF;\n",
              "    }\n",
              "  </style>\n",
              "\n",
              "      <script>\n",
              "        const buttonEl =\n",
              "          document.querySelector('#df-0f8b2c23-336b-48be-8fc4-90a40b8dc1ba button.colab-df-convert');\n",
              "        buttonEl.style.display =\n",
              "          google.colab.kernel.accessAllowed ? 'block' : 'none';\n",
              "\n",
              "        async function convertToInteractive(key) {\n",
              "          const element = document.querySelector('#df-0f8b2c23-336b-48be-8fc4-90a40b8dc1ba');\n",
              "          const dataTable =\n",
              "            await google.colab.kernel.invokeFunction('convertToInteractive',\n",
              "                                                     [key], {});\n",
              "          if (!dataTable) return;\n",
              "\n",
              "          const docLinkHtml = 'Like what you see? Visit the ' +\n",
              "            '<a target=\"_blank\" href=https://colab.research.google.com/notebooks/data_table.ipynb>data table notebook</a>'\n",
              "            + ' to learn more about interactive tables.';\n",
              "          element.innerHTML = '';\n",
              "          dataTable['output_type'] = 'display_data';\n",
              "          await google.colab.output.renderOutput(dataTable, element);\n",
              "          const docLink = document.createElement('div');\n",
              "          docLink.innerHTML = docLinkHtml;\n",
              "          element.appendChild(docLink);\n",
              "        }\n",
              "      </script>\n",
              "    </div>\n",
              "  </div>\n",
              "  "
            ],
            "text/plain": [
              "                      0             1        2   ...       11       12        13\n",
              "Asset_ID               2             0        1  ...        8       10         4\n",
              "Weight            2.3979       4.30407  6.77992  ...  1.09861  1.09861   3.55535\n",
              "Asset_Name  Bitcoin Cash  Binance Coin  Bitcoin  ...     IOTA    Maker  Dogecoin\n",
              "\n",
              "[3 rows x 14 columns]"
            ]
          },
          "metadata": {},
          "execution_count": 8
        }
      ]
    },
    {
      "cell_type": "code",
      "source": [
        "tr = pd.read_csv('train.csv')\n",
        "\n",
        "tr.info()"
      ],
      "metadata": {
        "colab": {
          "base_uri": "https://localhost:8080/"
        },
        "id": "vRGbr-MOs9nO",
        "outputId": "9f8180ba-d88e-4972-8495-745fe1a9197a"
      },
      "execution_count": null,
      "outputs": [
        {
          "output_type": "stream",
          "name": "stdout",
          "text": [
            "<class 'pandas.core.frame.DataFrame'>\n",
            "RangeIndex: 24236806 entries, 0 to 24236805\n",
            "Data columns (total 10 columns):\n",
            " #   Column     Dtype  \n",
            "---  ------     -----  \n",
            " 0   timestamp  int64  \n",
            " 1   Asset_ID   int64  \n",
            " 2   Count      float64\n",
            " 3   Open       float64\n",
            " 4   High       float64\n",
            " 5   Low        float64\n",
            " 6   Close      float64\n",
            " 7   Volume     float64\n",
            " 8   VWAP       float64\n",
            " 9   Target     float64\n",
            "dtypes: float64(8), int64(2)\n",
            "memory usage: 1.8 GB\n"
          ]
        }
      ]
    },
    {
      "cell_type": "code",
      "source": [
        "tr.shape"
      ],
      "metadata": {
        "colab": {
          "base_uri": "https://localhost:8080/"
        },
        "id": "L652YScsrDHx",
        "outputId": "84fcef38-9d9c-4d1e-bf15-64fa857420b9"
      },
      "execution_count": null,
      "outputs": [
        {
          "output_type": "execute_result",
          "data": {
            "text/plain": [
              "(24236806, 10)"
            ]
          },
          "metadata": {},
          "execution_count": 11
        }
      ]
    },
    {
      "cell_type": "code",
      "source": [
        "dg = tr[tr.Asset_ID==4]\n",
        "dg.info() "
      ],
      "metadata": {
        "colab": {
          "base_uri": "https://localhost:8080/"
        },
        "id": "Oh8skv8RyH1H",
        "outputId": "a6a789f5-c4fa-44bf-9dcb-7172a906e389"
      },
      "execution_count": null,
      "outputs": [
        {
          "output_type": "stream",
          "name": "stdout",
          "text": [
            "<class 'pandas.core.frame.DataFrame'>\n",
            "Int64Index: 1156866 entries, 7269141 to 24236796\n",
            "Data columns (total 10 columns):\n",
            " #   Column     Non-Null Count    Dtype  \n",
            "---  ------     --------------    -----  \n",
            " 0   timestamp  1156866 non-null  int64  \n",
            " 1   Asset_ID   1156866 non-null  int64  \n",
            " 2   Count      1156866 non-null  float64\n",
            " 3   Open       1156866 non-null  float64\n",
            " 4   High       1156866 non-null  float64\n",
            " 5   Low        1156866 non-null  float64\n",
            " 6   Close      1156866 non-null  float64\n",
            " 7   Volume     1156866 non-null  float64\n",
            " 8   VWAP       1156866 non-null  float64\n",
            " 9   Target     1011892 non-null  float64\n",
            "dtypes: float64(8), int64(2)\n",
            "memory usage: 97.1 MB\n"
          ]
        }
      ]
    },
    {
      "cell_type": "code",
      "source": [
        ""
      ],
      "metadata": {
        "id": "JpmG9PqMySiE"
      },
      "execution_count": null,
      "outputs": []
    }
  ]
}
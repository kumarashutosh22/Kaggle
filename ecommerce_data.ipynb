{
  "nbformat": 4,
  "nbformat_minor": 0,
  "metadata": {
    "colab": {
      "name": "ecommerce_data.ipynb",
      "provenance": [],
      "toc_visible": true,
      "authorship_tag": "ABX9TyMFroFG6II18I91ztZGqODE"
    },
    "kernelspec": {
      "name": "python3",
      "display_name": "Python 3"
    }
  },
  "cells": [
    {
      "cell_type": "markdown",
      "metadata": {
        "id": "Lx0ttSKy8gA_"
      },
      "source": [
        "# Kaggle API"
      ]
    },
    {
      "cell_type": "code",
      "metadata": {
        "id": "uWpX0mCwtQTt"
      },
      "source": [
        "! mkdir ~/.kaggle"
      ],
      "execution_count": null,
      "outputs": []
    },
    {
      "cell_type": "code",
      "metadata": {
        "id": "jXlpC5Bv58sf"
      },
      "source": [
        "!cp kaggle.json ~/.kaggle/"
      ],
      "execution_count": null,
      "outputs": []
    },
    {
      "cell_type": "code",
      "metadata": {
        "id": "rgERfcFB58mp"
      },
      "source": [
        "!chmod 600 ~/.kaggle/kaggle.json"
      ],
      "execution_count": null,
      "outputs": []
    },
    {
      "cell_type": "code",
      "metadata": {
        "id": "NGKlZ5Eu58W3",
        "outputId": "855e76d3-8d98-4209-d510-65a46e1069cb",
        "colab": {
          "base_uri": "https://localhost:8080/"
        }
      },
      "source": [
        "!kaggle datasets download -d carrie1/ecommerce-data"
      ],
      "execution_count": null,
      "outputs": [
        {
          "output_type": "stream",
          "text": [
            "Downloading ecommerce-data.zip to /content\n",
            " 69% 5.00M/7.20M [00:00<00:00, 43.4MB/s]\n",
            "100% 7.20M/7.20M [00:00<00:00, 45.9MB/s]\n"
          ],
          "name": "stdout"
        }
      ]
    },
    {
      "cell_type": "code",
      "metadata": {
        "id": "U71B7G-Y58Mu",
        "outputId": "068b52ba-15a1-4800-85fa-13402c92ca89",
        "colab": {
          "base_uri": "https://localhost:8080/"
        }
      },
      "source": [
        "!unzip ecommerce-data.zip"
      ],
      "execution_count": null,
      "outputs": [
        {
          "output_type": "stream",
          "text": [
            "Archive:  ecommerce-data.zip\n",
            "  inflating: data.csv                \n"
          ],
          "name": "stdout"
        }
      ]
    },
    {
      "cell_type": "markdown",
      "metadata": {
        "id": "pE8ZXoD78j2c"
      },
      "source": [
        "# Libraries"
      ]
    },
    {
      "cell_type": "code",
      "metadata": {
        "id": "LMyA88cQ7y_L"
      },
      "source": [
        "import numpy as np\n",
        "import pandas as pd\n",
        "\n",
        "import matplotlib.pyplot as plt\n",
        "import seaborn as sns\n",
        "\n",
        "%matplotlib inline"
      ],
      "execution_count": null,
      "outputs": []
    },
    {
      "cell_type": "markdown",
      "metadata": {
        "id": "UDmsztpn8q0f"
      },
      "source": [
        "# Dataset"
      ]
    },
    {
      "cell_type": "code",
      "metadata": {
        "id": "gSSOBxR68ovj",
        "outputId": "6e312531-3873-4ab3-9915-1b3a6590e123",
        "colab": {
          "base_uri": "https://localhost:8080/",
          "height": 293
        }
      },
      "source": [
        "df = pd.read_csv('data.csv',encoding='unicode_escape')\n",
        "df.head()"
      ],
      "execution_count": null,
      "outputs": [
        {
          "output_type": "execute_result",
          "data": {
            "text/html": [
              "<div>\n",
              "<style scoped>\n",
              "    .dataframe tbody tr th:only-of-type {\n",
              "        vertical-align: middle;\n",
              "    }\n",
              "\n",
              "    .dataframe tbody tr th {\n",
              "        vertical-align: top;\n",
              "    }\n",
              "\n",
              "    .dataframe thead th {\n",
              "        text-align: right;\n",
              "    }\n",
              "</style>\n",
              "<table border=\"1\" class=\"dataframe\">\n",
              "  <thead>\n",
              "    <tr style=\"text-align: right;\">\n",
              "      <th></th>\n",
              "      <th>InvoiceNo</th>\n",
              "      <th>StockCode</th>\n",
              "      <th>Description</th>\n",
              "      <th>Quantity</th>\n",
              "      <th>InvoiceDate</th>\n",
              "      <th>UnitPrice</th>\n",
              "      <th>CustomerID</th>\n",
              "      <th>Country</th>\n",
              "    </tr>\n",
              "  </thead>\n",
              "  <tbody>\n",
              "    <tr>\n",
              "      <th>0</th>\n",
              "      <td>536365</td>\n",
              "      <td>85123A</td>\n",
              "      <td>WHITE HANGING HEART T-LIGHT HOLDER</td>\n",
              "      <td>6</td>\n",
              "      <td>12/1/2010 8:26</td>\n",
              "      <td>2.55</td>\n",
              "      <td>17850.0</td>\n",
              "      <td>United Kingdom</td>\n",
              "    </tr>\n",
              "    <tr>\n",
              "      <th>1</th>\n",
              "      <td>536365</td>\n",
              "      <td>71053</td>\n",
              "      <td>WHITE METAL LANTERN</td>\n",
              "      <td>6</td>\n",
              "      <td>12/1/2010 8:26</td>\n",
              "      <td>3.39</td>\n",
              "      <td>17850.0</td>\n",
              "      <td>United Kingdom</td>\n",
              "    </tr>\n",
              "    <tr>\n",
              "      <th>2</th>\n",
              "      <td>536365</td>\n",
              "      <td>84406B</td>\n",
              "      <td>CREAM CUPID HEARTS COAT HANGER</td>\n",
              "      <td>8</td>\n",
              "      <td>12/1/2010 8:26</td>\n",
              "      <td>2.75</td>\n",
              "      <td>17850.0</td>\n",
              "      <td>United Kingdom</td>\n",
              "    </tr>\n",
              "    <tr>\n",
              "      <th>3</th>\n",
              "      <td>536365</td>\n",
              "      <td>84029G</td>\n",
              "      <td>KNITTED UNION FLAG HOT WATER BOTTLE</td>\n",
              "      <td>6</td>\n",
              "      <td>12/1/2010 8:26</td>\n",
              "      <td>3.39</td>\n",
              "      <td>17850.0</td>\n",
              "      <td>United Kingdom</td>\n",
              "    </tr>\n",
              "    <tr>\n",
              "      <th>4</th>\n",
              "      <td>536365</td>\n",
              "      <td>84029E</td>\n",
              "      <td>RED WOOLLY HOTTIE WHITE HEART.</td>\n",
              "      <td>6</td>\n",
              "      <td>12/1/2010 8:26</td>\n",
              "      <td>3.39</td>\n",
              "      <td>17850.0</td>\n",
              "      <td>United Kingdom</td>\n",
              "    </tr>\n",
              "  </tbody>\n",
              "</table>\n",
              "</div>"
            ],
            "text/plain": [
              "  InvoiceNo StockCode  ... CustomerID         Country\n",
              "0    536365    85123A  ...    17850.0  United Kingdom\n",
              "1    536365     71053  ...    17850.0  United Kingdom\n",
              "2    536365    84406B  ...    17850.0  United Kingdom\n",
              "3    536365    84029G  ...    17850.0  United Kingdom\n",
              "4    536365    84029E  ...    17850.0  United Kingdom\n",
              "\n",
              "[5 rows x 8 columns]"
            ]
          },
          "metadata": {
            "tags": []
          },
          "execution_count": 8
        }
      ]
    },
    {
      "cell_type": "markdown",
      "metadata": {
        "id": "XtE2ny18Ck3c"
      },
      "source": [
        "# EDA - Purchase Behaviour Analysis"
      ]
    },
    {
      "cell_type": "markdown",
      "metadata": {
        "id": "RnJSvIw1DJlX"
      },
      "source": [
        "## Checking shape of data"
      ]
    },
    {
      "cell_type": "code",
      "metadata": {
        "id": "EBdqRkGm8vaE",
        "outputId": "05aeb272-c06c-491b-f0a7-79d180546d11",
        "colab": {
          "base_uri": "https://localhost:8080/"
        }
      },
      "source": [
        "# checking the shape of the dataset\n",
        "df.shape"
      ],
      "execution_count": null,
      "outputs": [
        {
          "output_type": "execute_result",
          "data": {
            "text/plain": [
              "(541909, 8)"
            ]
          },
          "metadata": {
            "tags": []
          },
          "execution_count": 9
        }
      ]
    },
    {
      "cell_type": "markdown",
      "metadata": {
        "id": "PcaZUX69DTQz"
      },
      "source": [
        "**Observations**\n",
        "\n",
        "1. There are 8 columns.\n",
        "2. There are 5,41,909 rows."
      ]
    },
    {
      "cell_type": "markdown",
      "metadata": {
        "id": "gMaxo_H5EHm5"
      },
      "source": [
        "## Checking null count and dtypes"
      ]
    },
    {
      "cell_type": "code",
      "metadata": {
        "id": "GCzKLJTaCqpE",
        "outputId": "e5ed3f5f-a602-4080-a0c4-13ddb0c99784",
        "colab": {
          "base_uri": "https://localhost:8080/"
        }
      },
      "source": [
        "df.info()"
      ],
      "execution_count": null,
      "outputs": [
        {
          "output_type": "stream",
          "text": [
            "<class 'pandas.core.frame.DataFrame'>\n",
            "RangeIndex: 541909 entries, 0 to 541908\n",
            "Data columns (total 8 columns):\n",
            " #   Column       Non-Null Count   Dtype  \n",
            "---  ------       --------------   -----  \n",
            " 0   InvoiceNo    541909 non-null  object \n",
            " 1   StockCode    541909 non-null  object \n",
            " 2   Description  540455 non-null  object \n",
            " 3   Quantity     541909 non-null  int64  \n",
            " 4   InvoiceDate  541909 non-null  object \n",
            " 5   UnitPrice    541909 non-null  float64\n",
            " 6   CustomerID   406829 non-null  float64\n",
            " 7   Country      541909 non-null  object \n",
            "dtypes: float64(2), int64(1), object(5)\n",
            "memory usage: 33.1+ MB\n"
          ],
          "name": "stdout"
        }
      ]
    },
    {
      "cell_type": "markdown",
      "metadata": {
        "id": "t7D3EpgJEj5t"
      },
      "source": [
        "***Observations***\n",
        "\n",
        "1. 5 nominal columns.\n",
        "2. 3 numerical columns.\n",
        "3. Description and CustomerID are the only feature with missing values."
      ]
    },
    {
      "cell_type": "code",
      "metadata": {
        "id": "BY6yQE3oDie7",
        "outputId": "6c8a5544-e829-4df1-e23e-9ee3c9cd04d6",
        "colab": {
          "base_uri": "https://localhost:8080/"
        }
      },
      "source": [
        "print(df['Description'].isna().sum())\n",
        "# total 1454 missing values\n",
        "print(df[df['Description'].isna()]['Country'].unique())\n",
        "# all the missing description values are from UK\n",
        "print(df[df['Description'].isna()]['UnitPrice'].unique())\n",
        "# all of them have a unit price of 0\n",
        "print(df[df['Description'].isna()]['CustomerID'].unique())\n",
        "# all of them also have a missing customer ID"
      ],
      "execution_count": null,
      "outputs": [
        {
          "output_type": "stream",
          "text": [
            "1454\n",
            "['United Kingdom']\n",
            "[0.]\n",
            "[nan]\n"
          ],
          "name": "stdout"
        }
      ]
    },
    {
      "cell_type": "code",
      "metadata": {
        "id": "1iZBuo1pImnc",
        "outputId": "400ac463-4bf8-4ae3-ae46-3261a150dff2",
        "colab": {
          "base_uri": "https://localhost:8080/"
        }
      },
      "source": [
        "print(df['CustomerID'].isna().sum())\n",
        "df[df['CustomerID'].isna()]['Country'].unique()"
      ],
      "execution_count": null,
      "outputs": [
        {
          "output_type": "stream",
          "text": [
            "135080\n"
          ],
          "name": "stdout"
        },
        {
          "output_type": "execute_result",
          "data": {
            "text/plain": [
              "array(['United Kingdom', 'EIRE', 'Bahrain', 'Israel', 'Hong Kong',\n",
              "       'Unspecified', 'France', 'Switzerland', 'Portugal'], dtype=object)"
            ]
          },
          "metadata": {
            "tags": []
          },
          "execution_count": 12
        }
      ]
    },
    {
      "cell_type": "code",
      "metadata": {
        "id": "KpW6bNxfKsXZ",
        "outputId": "78a39265-5b2e-4eb8-f46e-fbf9b64e67e6",
        "colab": {
          "base_uri": "https://localhost:8080/"
        }
      },
      "source": [
        "print('Percentage missing values:')\n",
        "print(df.isna().sum()/len(df)*100)"
      ],
      "execution_count": null,
      "outputs": [
        {
          "output_type": "stream",
          "text": [
            "Percentage missing values:\n",
            "InvoiceNo       0.000000\n",
            "StockCode       0.000000\n",
            "Description     0.268311\n",
            "Quantity        0.000000\n",
            "InvoiceDate     0.000000\n",
            "UnitPrice       0.000000\n",
            "CustomerID     24.926694\n",
            "Country         0.000000\n",
            "dtype: float64\n"
          ],
          "name": "stdout"
        }
      ]
    },
    {
      "cell_type": "markdown",
      "metadata": {
        "id": "_ctT4rdn4AJ4"
      },
      "source": [
        "***Observations***\n",
        "\n",
        "As about 25% of the transactions have missing customer ID it'll be hard to decipher who actually made the purchase."
      ]
    },
    {
      "cell_type": "markdown",
      "metadata": {
        "id": "nPn2NILqXqFo"
      },
      "source": [
        "## Checking InvoiceNo\n",
        "\n",
        "- Invoice number\n",
        "- Nominal\n",
        "- 6-digit integral number uniquely assigned to each transaction\n",
        "- If this code starts with letter 'c', it indicates a cancellation."
      ]
    },
    {
      "cell_type": "code",
      "metadata": {
        "id": "sQrnBb8CUUUu",
        "outputId": "d748e139-17d7-453b-d0b1-b2574c1ec0b6",
        "colab": {
          "base_uri": "https://localhost:8080/"
        }
      },
      "source": [
        "df.InvoiceNo.isna().sum()"
      ],
      "execution_count": null,
      "outputs": [
        {
          "output_type": "execute_result",
          "data": {
            "text/plain": [
              "0"
            ]
          },
          "metadata": {
            "tags": []
          },
          "execution_count": 14
        }
      ]
    },
    {
      "cell_type": "code",
      "metadata": {
        "id": "oIprDtDrXv9h",
        "outputId": "d2acd953-b2a7-4e01-c8f0-535455041f34",
        "colab": {
          "base_uri": "https://localhost:8080/"
        }
      },
      "source": [
        "df.InvoiceNo.dtype"
      ],
      "execution_count": null,
      "outputs": [
        {
          "output_type": "execute_result",
          "data": {
            "text/plain": [
              "dtype('O')"
            ]
          },
          "metadata": {
            "tags": []
          },
          "execution_count": 15
        }
      ]
    },
    {
      "cell_type": "code",
      "metadata": {
        "id": "xSFoBhAqYL5v",
        "outputId": "d197b4a4-e9e7-4d5a-86dc-9749297071e6",
        "colab": {
          "base_uri": "https://localhost:8080/"
        }
      },
      "source": [
        "df.InvoiceNo.value_counts()\n",
        "# There are repeated invoice numbers"
      ],
      "execution_count": null,
      "outputs": [
        {
          "output_type": "execute_result",
          "data": {
            "text/plain": [
              "573585     1114\n",
              "581219      749\n",
              "581492      731\n",
              "580729      721\n",
              "558475      705\n",
              "           ... \n",
              "C580604       1\n",
              "C551330       1\n",
              "C555354       1\n",
              "571102        1\n",
              "C541498       1\n",
              "Name: InvoiceNo, Length: 25900, dtype: int64"
            ]
          },
          "metadata": {
            "tags": []
          },
          "execution_count": 16
        }
      ]
    },
    {
      "cell_type": "code",
      "metadata": {
        "id": "4aAhxcoSoRMX",
        "outputId": "be52bb30-885a-4ce8-ebaf-d921ed844ef5",
        "colab": {
          "base_uri": "https://localhost:8080/"
        }
      },
      "source": [
        "# checking the number of transactions by counting the unique invoice numbers\n",
        "print('The no. of transactions in the dataset are',len(df.InvoiceNo.unique()))"
      ],
      "execution_count": null,
      "outputs": [
        {
          "output_type": "stream",
          "text": [
            "The no. of transactions in the dataset are 25900\n"
          ],
          "name": "stdout"
        }
      ]
    },
    {
      "cell_type": "code",
      "metadata": {
        "id": "U2JSlC-_YfsA",
        "outputId": "5584a1d4-bbec-49de-f714-3ba33aac8dc2",
        "colab": {
          "base_uri": "https://localhost:8080/"
        }
      },
      "source": [
        "from collections import Counter\n",
        "\n",
        "lst = []\n",
        "for element in df.InvoiceNo:\n",
        "  if len(element) == 7:\n",
        "    lst.append(element[0])\n",
        "\n",
        "Counter(lst)\n",
        "# There are several cancelations termed C.\n",
        "# This could mean that the 6 digit code after the alphabet\n",
        "# may correspond to a previous invoice number"
      ],
      "execution_count": null,
      "outputs": [
        {
          "output_type": "execute_result",
          "data": {
            "text/plain": [
              "Counter({'A': 3, 'C': 9288})"
            ]
          },
          "metadata": {
            "tags": []
          },
          "execution_count": 18
        }
      ]
    },
    {
      "cell_type": "code",
      "metadata": {
        "id": "_WjOu3y5_uc_",
        "outputId": "c629a6d4-36b7-46ce-aec1-5d1df607ee06",
        "colab": {
          "base_uri": "https://localhost:8080/",
          "height": 143
        }
      },
      "source": [
        "# What is 'A'\n",
        "df[[i[0]=='A' for i in df.InvoiceNo]]\n",
        "# The invoice numbers having A in the beginning means\n",
        "# they have adjust bad debt\n",
        "# It seems someone was trying to order an item but the order kept failing"
      ],
      "execution_count": null,
      "outputs": [
        {
          "output_type": "execute_result",
          "data": {
            "text/html": [
              "<div>\n",
              "<style scoped>\n",
              "    .dataframe tbody tr th:only-of-type {\n",
              "        vertical-align: middle;\n",
              "    }\n",
              "\n",
              "    .dataframe tbody tr th {\n",
              "        vertical-align: top;\n",
              "    }\n",
              "\n",
              "    .dataframe thead th {\n",
              "        text-align: right;\n",
              "    }\n",
              "</style>\n",
              "<table border=\"1\" class=\"dataframe\">\n",
              "  <thead>\n",
              "    <tr style=\"text-align: right;\">\n",
              "      <th></th>\n",
              "      <th>InvoiceNo</th>\n",
              "      <th>StockCode</th>\n",
              "      <th>Description</th>\n",
              "      <th>Quantity</th>\n",
              "      <th>InvoiceDate</th>\n",
              "      <th>UnitPrice</th>\n",
              "      <th>CustomerID</th>\n",
              "      <th>Country</th>\n",
              "    </tr>\n",
              "  </thead>\n",
              "  <tbody>\n",
              "    <tr>\n",
              "      <th>299982</th>\n",
              "      <td>A563185</td>\n",
              "      <td>B</td>\n",
              "      <td>Adjust bad debt</td>\n",
              "      <td>1</td>\n",
              "      <td>8/12/2011 14:50</td>\n",
              "      <td>11062.06</td>\n",
              "      <td>NaN</td>\n",
              "      <td>United Kingdom</td>\n",
              "    </tr>\n",
              "    <tr>\n",
              "      <th>299983</th>\n",
              "      <td>A563186</td>\n",
              "      <td>B</td>\n",
              "      <td>Adjust bad debt</td>\n",
              "      <td>1</td>\n",
              "      <td>8/12/2011 14:51</td>\n",
              "      <td>-11062.06</td>\n",
              "      <td>NaN</td>\n",
              "      <td>United Kingdom</td>\n",
              "    </tr>\n",
              "    <tr>\n",
              "      <th>299984</th>\n",
              "      <td>A563187</td>\n",
              "      <td>B</td>\n",
              "      <td>Adjust bad debt</td>\n",
              "      <td>1</td>\n",
              "      <td>8/12/2011 14:52</td>\n",
              "      <td>-11062.06</td>\n",
              "      <td>NaN</td>\n",
              "      <td>United Kingdom</td>\n",
              "    </tr>\n",
              "  </tbody>\n",
              "</table>\n",
              "</div>"
            ],
            "text/plain": [
              "       InvoiceNo StockCode  ... CustomerID         Country\n",
              "299982   A563185         B  ...        NaN  United Kingdom\n",
              "299983   A563186         B  ...        NaN  United Kingdom\n",
              "299984   A563187         B  ...        NaN  United Kingdom\n",
              "\n",
              "[3 rows x 8 columns]"
            ]
          },
          "metadata": {
            "tags": []
          },
          "execution_count": 19
        }
      ]
    },
    {
      "cell_type": "code",
      "metadata": {
        "id": "rB0J1QVNLvs1",
        "outputId": "f270019c-7d8d-42b6-a8a3-aef103117b9e",
        "colab": {
          "base_uri": "https://localhost:8080/",
          "height": 293
        }
      },
      "source": [
        "# What is 'C': It's Cancellation\n",
        "df[[i[0]=='C' for i in df.InvoiceNo]].head()\n",
        "# The negative quantity showcases that the items had been returned."
      ],
      "execution_count": null,
      "outputs": [
        {
          "output_type": "execute_result",
          "data": {
            "text/html": [
              "<div>\n",
              "<style scoped>\n",
              "    .dataframe tbody tr th:only-of-type {\n",
              "        vertical-align: middle;\n",
              "    }\n",
              "\n",
              "    .dataframe tbody tr th {\n",
              "        vertical-align: top;\n",
              "    }\n",
              "\n",
              "    .dataframe thead th {\n",
              "        text-align: right;\n",
              "    }\n",
              "</style>\n",
              "<table border=\"1\" class=\"dataframe\">\n",
              "  <thead>\n",
              "    <tr style=\"text-align: right;\">\n",
              "      <th></th>\n",
              "      <th>InvoiceNo</th>\n",
              "      <th>StockCode</th>\n",
              "      <th>Description</th>\n",
              "      <th>Quantity</th>\n",
              "      <th>InvoiceDate</th>\n",
              "      <th>UnitPrice</th>\n",
              "      <th>CustomerID</th>\n",
              "      <th>Country</th>\n",
              "    </tr>\n",
              "  </thead>\n",
              "  <tbody>\n",
              "    <tr>\n",
              "      <th>141</th>\n",
              "      <td>C536379</td>\n",
              "      <td>D</td>\n",
              "      <td>Discount</td>\n",
              "      <td>-1</td>\n",
              "      <td>12/1/2010 9:41</td>\n",
              "      <td>27.50</td>\n",
              "      <td>14527.0</td>\n",
              "      <td>United Kingdom</td>\n",
              "    </tr>\n",
              "    <tr>\n",
              "      <th>154</th>\n",
              "      <td>C536383</td>\n",
              "      <td>35004C</td>\n",
              "      <td>SET OF 3 COLOURED  FLYING DUCKS</td>\n",
              "      <td>-1</td>\n",
              "      <td>12/1/2010 9:49</td>\n",
              "      <td>4.65</td>\n",
              "      <td>15311.0</td>\n",
              "      <td>United Kingdom</td>\n",
              "    </tr>\n",
              "    <tr>\n",
              "      <th>235</th>\n",
              "      <td>C536391</td>\n",
              "      <td>22556</td>\n",
              "      <td>PLASTERS IN TIN CIRCUS PARADE</td>\n",
              "      <td>-12</td>\n",
              "      <td>12/1/2010 10:24</td>\n",
              "      <td>1.65</td>\n",
              "      <td>17548.0</td>\n",
              "      <td>United Kingdom</td>\n",
              "    </tr>\n",
              "    <tr>\n",
              "      <th>236</th>\n",
              "      <td>C536391</td>\n",
              "      <td>21984</td>\n",
              "      <td>PACK OF 12 PINK PAISLEY TISSUES</td>\n",
              "      <td>-24</td>\n",
              "      <td>12/1/2010 10:24</td>\n",
              "      <td>0.29</td>\n",
              "      <td>17548.0</td>\n",
              "      <td>United Kingdom</td>\n",
              "    </tr>\n",
              "    <tr>\n",
              "      <th>237</th>\n",
              "      <td>C536391</td>\n",
              "      <td>21983</td>\n",
              "      <td>PACK OF 12 BLUE PAISLEY TISSUES</td>\n",
              "      <td>-24</td>\n",
              "      <td>12/1/2010 10:24</td>\n",
              "      <td>0.29</td>\n",
              "      <td>17548.0</td>\n",
              "      <td>United Kingdom</td>\n",
              "    </tr>\n",
              "  </tbody>\n",
              "</table>\n",
              "</div>"
            ],
            "text/plain": [
              "    InvoiceNo StockCode  ... CustomerID         Country\n",
              "141   C536379         D  ...    14527.0  United Kingdom\n",
              "154   C536383    35004C  ...    15311.0  United Kingdom\n",
              "235   C536391     22556  ...    17548.0  United Kingdom\n",
              "236   C536391     21984  ...    17548.0  United Kingdom\n",
              "237   C536391     21983  ...    17548.0  United Kingdom\n",
              "\n",
              "[5 rows x 8 columns]"
            ]
          },
          "metadata": {
            "tags": []
          },
          "execution_count": 20
        }
      ]
    },
    {
      "cell_type": "code",
      "metadata": {
        "id": "AGR1NBBeEFGs",
        "outputId": "8458c803-f7f3-4521-cf8a-5074ec50983e",
        "colab": {
          "base_uri": "https://localhost:8080/",
          "height": 147
        }
      },
      "source": [
        "# checking rows above and below the canceled order\n",
        "df.sort_values(by='CustomerID').head(2)\n",
        "\n",
        "# There is a clear indication invoice no. has changed\n",
        "# but it's the same order being returned."
      ],
      "execution_count": null,
      "outputs": [
        {
          "output_type": "execute_result",
          "data": {
            "text/html": [
              "<div>\n",
              "<style scoped>\n",
              "    .dataframe tbody tr th:only-of-type {\n",
              "        vertical-align: middle;\n",
              "    }\n",
              "\n",
              "    .dataframe tbody tr th {\n",
              "        vertical-align: top;\n",
              "    }\n",
              "\n",
              "    .dataframe thead th {\n",
              "        text-align: right;\n",
              "    }\n",
              "</style>\n",
              "<table border=\"1\" class=\"dataframe\">\n",
              "  <thead>\n",
              "    <tr style=\"text-align: right;\">\n",
              "      <th></th>\n",
              "      <th>InvoiceNo</th>\n",
              "      <th>StockCode</th>\n",
              "      <th>Description</th>\n",
              "      <th>Quantity</th>\n",
              "      <th>InvoiceDate</th>\n",
              "      <th>UnitPrice</th>\n",
              "      <th>CustomerID</th>\n",
              "      <th>Country</th>\n",
              "    </tr>\n",
              "  </thead>\n",
              "  <tbody>\n",
              "    <tr>\n",
              "      <th>61619</th>\n",
              "      <td>541431</td>\n",
              "      <td>23166</td>\n",
              "      <td>MEDIUM CERAMIC TOP STORAGE JAR</td>\n",
              "      <td>74215</td>\n",
              "      <td>1/18/2011 10:01</td>\n",
              "      <td>1.04</td>\n",
              "      <td>12346.0</td>\n",
              "      <td>United Kingdom</td>\n",
              "    </tr>\n",
              "    <tr>\n",
              "      <th>61624</th>\n",
              "      <td>C541433</td>\n",
              "      <td>23166</td>\n",
              "      <td>MEDIUM CERAMIC TOP STORAGE JAR</td>\n",
              "      <td>-74215</td>\n",
              "      <td>1/18/2011 10:17</td>\n",
              "      <td>1.04</td>\n",
              "      <td>12346.0</td>\n",
              "      <td>United Kingdom</td>\n",
              "    </tr>\n",
              "  </tbody>\n",
              "</table>\n",
              "</div>"
            ],
            "text/plain": [
              "      InvoiceNo StockCode  ... CustomerID         Country\n",
              "61619    541431     23166  ...    12346.0  United Kingdom\n",
              "61624   C541433     23166  ...    12346.0  United Kingdom\n",
              "\n",
              "[2 rows x 8 columns]"
            ]
          },
          "metadata": {
            "tags": []
          },
          "execution_count": 21
        }
      ]
    },
    {
      "cell_type": "markdown",
      "metadata": {
        "id": "wL_jR3smZ2S2"
      },
      "source": [
        "## Treating null"
      ]
    },
    {
      "cell_type": "code",
      "metadata": {
        "id": "ZCiB8ULeADhz"
      },
      "source": [
        "# The missing values can be dropped\n",
        "dfn = df.dropna().reset_index()"
      ],
      "execution_count": null,
      "outputs": []
    },
    {
      "cell_type": "code",
      "metadata": {
        "id": "o7IibYGBAiHa",
        "outputId": "8856016b-1750-497c-da78-8e02dc00268c",
        "colab": {
          "base_uri": "https://localhost:8080/"
        }
      },
      "source": [
        "dfn.isna().sum().sum()"
      ],
      "execution_count": null,
      "outputs": [
        {
          "output_type": "execute_result",
          "data": {
            "text/plain": [
              "0"
            ]
          },
          "metadata": {
            "tags": []
          },
          "execution_count": 23
        }
      ]
    },
    {
      "cell_type": "markdown",
      "metadata": {
        "id": "4S_aiDegZ7ne"
      },
      "source": [
        "## Changing InvoiceDate to datetime"
      ]
    },
    {
      "cell_type": "code",
      "metadata": {
        "id": "NPMYvOShAzIX"
      },
      "source": [
        "# changing the invoice date column to datetime\n",
        "dfn['InvoiceDate'] = pd.to_datetime(dfn['InvoiceDate'])"
      ],
      "execution_count": null,
      "outputs": []
    },
    {
      "cell_type": "code",
      "metadata": {
        "id": "bsOGTV_DFtw5",
        "outputId": "caa6fd2b-f1d8-4558-fb6b-f9e335bb6a09",
        "colab": {
          "base_uri": "https://localhost:8080/"
        }
      },
      "source": [
        "# checking count of the orders per country\n",
        "\n",
        "dfn['Country'].value_counts()\n",
        "# majority orders from UK\n",
        "# Most of the data points are from Europe followed by Australia"
      ],
      "execution_count": null,
      "outputs": [
        {
          "output_type": "execute_result",
          "data": {
            "text/plain": [
              "United Kingdom          361878\n",
              "Germany                   9495\n",
              "France                    8491\n",
              "EIRE                      7485\n",
              "Spain                     2533\n",
              "Netherlands               2371\n",
              "Belgium                   2069\n",
              "Switzerland               1877\n",
              "Portugal                  1480\n",
              "Australia                 1259\n",
              "Norway                    1086\n",
              "Italy                      803\n",
              "Channel Islands            758\n",
              "Finland                    695\n",
              "Cyprus                     622\n",
              "Sweden                     462\n",
              "Austria                    401\n",
              "Denmark                    389\n",
              "Japan                      358\n",
              "Poland                     341\n",
              "USA                        291\n",
              "Israel                     250\n",
              "Unspecified                244\n",
              "Singapore                  229\n",
              "Iceland                    182\n",
              "Canada                     151\n",
              "Greece                     146\n",
              "Malta                      127\n",
              "United Arab Emirates        68\n",
              "European Community          61\n",
              "RSA                         58\n",
              "Lebanon                     45\n",
              "Lithuania                   35\n",
              "Brazil                      32\n",
              "Czech Republic              30\n",
              "Bahrain                     17\n",
              "Saudi Arabia                10\n",
              "Name: Country, dtype: int64"
            ]
          },
          "metadata": {
            "tags": []
          },
          "execution_count": 25
        }
      ]
    },
    {
      "cell_type": "code",
      "metadata": {
        "id": "BaRR6SYPIeai",
        "outputId": "049d9459-d09f-4cba-c14c-069d4c0113f2",
        "colab": {
          "base_uri": "https://localhost:8080/"
        }
      },
      "source": [
        "# Checking the different products\n",
        "\n",
        "print('There are',len(df['StockCode'].unique()),'unique products')"
      ],
      "execution_count": null,
      "outputs": [
        {
          "output_type": "stream",
          "text": [
            "There are 4070 unique products\n"
          ],
          "name": "stdout"
        }
      ]
    },
    {
      "cell_type": "code",
      "metadata": {
        "id": "u8BLWT9r5tHp",
        "outputId": "173d1748-c399-4072-fd12-75ec9f4aedc1",
        "colab": {
          "base_uri": "https://localhost:8080/"
        }
      },
      "source": [
        "# Counting the different customers\n",
        "\n",
        "print('There are',len(df['CustomerID'].unique()),'unique customers')\n",
        "# Note: This is not accurate as there are approx 25% missing customer IDs.\n",
        "# Hence the no. of customers may well be more than this postulated no. but not less."
      ],
      "execution_count": null,
      "outputs": [
        {
          "output_type": "stream",
          "text": [
            "There are 4373 unique customers\n"
          ],
          "name": "stdout"
        }
      ]
    },
    {
      "cell_type": "code",
      "metadata": {
        "id": "9-OmrJMa6cxG"
      },
      "source": [
        "# a few columns like cost[of the total order], day, month, year etc can be added\n",
        "dfn['Cost'] = dfn['Quantity']*dfn['UnitPrice']"
      ],
      "execution_count": null,
      "outputs": []
    },
    {
      "cell_type": "code",
      "metadata": {
        "id": "1y0fAh-9B38k"
      },
      "source": [
        "dfn['Year'] = dfn['InvoiceDate'].map(lambda x:x.year)\n",
        "dfn['Month'] = dfn['InvoiceDate'].map(lambda x:x.month)\n",
        "dfn['Day'] = dfn['InvoiceDate'].map(lambda x:x.day)\n",
        "dfn['Hour'] = dfn['InvoiceDate'].map(lambda x:x.hour)"
      ],
      "execution_count": null,
      "outputs": []
    },
    {
      "cell_type": "code",
      "metadata": {
        "id": "o3ld_Xhzp-EL"
      },
      "source": [
        "dfn['Weekday'] = dfn['InvoiceDate'].map(lambda x:x.dayofweek)"
      ],
      "execution_count": null,
      "outputs": []
    },
    {
      "cell_type": "markdown",
      "metadata": {
        "id": "CaAhHZ8_ZdpY"
      },
      "source": [
        "# Checking top 5 customer orders"
      ]
    },
    {
      "cell_type": "code",
      "metadata": {
        "id": "vgfAkdbUf8Rz",
        "outputId": "540d262b-0189-4682-bc7a-4c9e7bef2bd1",
        "colab": {
          "base_uri": "https://localhost:8080/"
        }
      },
      "source": [
        "dfn.groupby('Country')['Cost'].sum().sort_values(ascending=False).head()\n",
        "\n",
        "# the UK has been the top spender followed by Netherland,\n",
        "## Ireland, Germany and France.\n",
        "\n",
        "# But as there are more customers from UK alone hence the total cost\n",
        "## might not provide a clear image."
      ],
      "execution_count": null,
      "outputs": [
        {
          "output_type": "execute_result",
          "data": {
            "text/plain": [
              "Country\n",
              "United Kingdom    6.767873e+06\n",
              "Netherlands       2.846615e+05\n",
              "EIRE              2.502852e+05\n",
              "Germany           2.216982e+05\n",
              "France            1.967128e+05\n",
              "Name: Cost, dtype: float64"
            ]
          },
          "metadata": {
            "tags": []
          },
          "execution_count": 31
        }
      ]
    },
    {
      "cell_type": "code",
      "metadata": {
        "id": "0UtAvY4lgd3O",
        "outputId": "782a20b6-9205-42fa-ec2a-cb132d744457",
        "colab": {
          "base_uri": "https://localhost:8080/"
        }
      },
      "source": [
        "dfn.groupby('Country')['Cost'].mean().sort_values(ascending=False).head()\n",
        "\n",
        "# looking at the average spending per customer per country\n",
        "## Netherland outperforms the rest by quite a margin.\n",
        "\n",
        "# The top 5 in terms of average spending doesn't include UK\n",
        "## hinting at the fact that the customers in UK might be focusing \n",
        "## on buying cheap or daily purchase items as the company is based\n",
        "## in UK while the rest are focussing more on luxury goods.\n",
        "\n",
        "# The other countries are Australia, Japan, Sweden and Denmark."
      ],
      "execution_count": null,
      "outputs": [
        {
          "output_type": "execute_result",
          "data": {
            "text/plain": [
              "Country\n",
              "Netherlands    120.059696\n",
              "Australia      108.877895\n",
              "Japan           98.716816\n",
              "Sweden          79.211926\n",
              "Denmark         48.247147\n",
              "Name: Cost, dtype: float64"
            ]
          },
          "metadata": {
            "tags": []
          },
          "execution_count": 32
        }
      ]
    },
    {
      "cell_type": "code",
      "metadata": {
        "id": "FW5ZMLYGYsN5",
        "outputId": "61c3da33-7f53-4bce-fff0-70f589c1c3c9",
        "colab": {
          "base_uri": "https://localhost:8080/"
        }
      },
      "source": [
        "dfn.groupby(\n",
        "    ['CustomerID','Country']\n",
        "    )['InvoiceNo'].count().sort_values(ascending=False).head()\n",
        "\n",
        "# The customers having the most orders have been from UK and Ireland.\n"
      ],
      "execution_count": null,
      "outputs": [
        {
          "output_type": "execute_result",
          "data": {
            "text/plain": [
              "CustomerID  Country       \n",
              "17841.0     United Kingdom    7983\n",
              "14911.0     EIRE              5903\n",
              "14096.0     United Kingdom    5128\n",
              "12748.0     United Kingdom    4642\n",
              "14606.0     United Kingdom    2782\n",
              "Name: InvoiceNo, dtype: int64"
            ]
          },
          "metadata": {
            "tags": []
          },
          "execution_count": 33
        }
      ]
    },
    {
      "cell_type": "code",
      "metadata": {
        "id": "uSiC2p-Zba47",
        "outputId": "da5b96e0-4b2b-4b64-8b3d-e0c0f93f15f6",
        "colab": {
          "base_uri": "https://localhost:8080/"
        }
      },
      "source": [
        "dfn.groupby(\n",
        "    ['CustomerID','Country']\n",
        "    )['Cost'].sum().sort_values(ascending=False).head()\n",
        "\n",
        "# The top spender has been a customer from Netherlands\n",
        "## with UK, Ireland and Australia in tow.\n",
        "\n",
        "# The Irish customer with the second most orders is also\n",
        "## 4th in terms of total amount spent."
      ],
      "execution_count": null,
      "outputs": [
        {
          "output_type": "execute_result",
          "data": {
            "text/plain": [
              "CustomerID  Country       \n",
              "14646.0     Netherlands       279489.02\n",
              "18102.0     United Kingdom    256438.49\n",
              "17450.0     United Kingdom    187482.17\n",
              "14911.0     EIRE              132572.62\n",
              "12415.0     Australia         123725.45\n",
              "Name: Cost, dtype: float64"
            ]
          },
          "metadata": {
            "tags": []
          },
          "execution_count": 34
        }
      ]
    },
    {
      "cell_type": "markdown",
      "metadata": {
        "id": "22qUPgKidwrw"
      },
      "source": [
        "# Checking sales over time"
      ]
    },
    {
      "cell_type": "code",
      "metadata": {
        "id": "AazKoEsRc35G",
        "outputId": "2f71842c-233f-4514-98a7-1e5210701bc0",
        "colab": {
          "base_uri": "https://localhost:8080/",
          "height": 295
        }
      },
      "source": [
        "sns.countplot(x=dfn['Month'])\n",
        "plt.ylabel('No. of Orders')\n",
        "plt.title('Orders per month')\n",
        "plt.show()\n",
        "\n",
        "# The month of november has the highest number of orders\n",
        "## followed by october and december"
      ],
      "execution_count": null,
      "outputs": [
        {
          "output_type": "display_data",
          "data": {
            "image/png": "[encoded data removed]",
            "text/plain": [
              "<Figure size 432x288 with 1 Axes>"
            ]
          },
          "metadata": {
            "tags": [],
            "needs_background": "light"
          }
        }
      ]
    },
    {
      "cell_type": "code",
      "metadata": {
        "id": "Vjqcu7inkR-y",
        "outputId": "fe03af31-dc09-4a22-d3e6-73b0d3534b84",
        "colab": {
          "base_uri": "https://localhost:8080/",
          "height": 295
        }
      },
      "source": [
        "dfn.groupby(['Month'])['Cost'].mean().plot()\n",
        "plt.ylabel('Total Amount Spent')\n",
        "plt.title('Total Spending per month')\n",
        "plt.show()\n",
        "\n",
        "# In case of average spending per month november appears to be an\n",
        "## underperformer.\n",
        "\n",
        "# Overall all the month have almost equal average spending."
      ],
      "execution_count": null,
      "outputs": [
        {
          "output_type": "display_data",
          "data": {
            "image/png": "[encoded data removed]",
            "text/plain": [
              "<Figure size 432x288 with 1 Axes>"
            ]
          },
          "metadata": {
            "tags": [],
            "needs_background": "light"
          }
        }
      ]
    },
    {
      "cell_type": "code",
      "metadata": {
        "id": "xWeLcgvPePo2",
        "outputId": "2e2a1f4e-d88d-4c76-9d69-827f3e17dbee",
        "colab": {
          "base_uri": "https://localhost:8080/",
          "height": 350
        }
      },
      "source": [
        "plt.figure(figsize=(15,5))\n",
        "plt.subplot(121)\n",
        "dfn.groupby(['Day'])['InvoiceNo'].count().plot()\n",
        "plt.ylabel('No. of orders')\n",
        "plt.title('Orders per day')\n",
        "\n",
        "plt.subplot(122)\n",
        "dfn.groupby(['Day'])['Cost'].mean().plot()\n",
        "plt.ylabel('Total Amount spent')\n",
        "plt.title('Total Spending per day')\n",
        "\n",
        "plt.show()\n",
        "\n",
        "# The number of orders seems to have a peak aound the first weekend\n",
        "## and dips by the month end.\n",
        "\n",
        "# This can be attributed to the fact that the paycheck mostly arrives \n",
        "## in the first week leading to people going on a spend spree\n",
        "## while turning conservative and saving what remains by the month end."
      ],
      "execution_count": null,
      "outputs": [
        {
          "output_type": "display_data",
          "data": {
            "image/png": "[encoded data removed]",
            "text/plain": [
              "<Figure size 1080x360 with 2 Axes>"
            ]
          },
          "metadata": {
            "tags": [],
            "needs_background": "light"
          }
        }
      ]
    },
    {
      "cell_type": "code",
      "metadata": {
        "id": "HbJZI0UNmSBm",
        "outputId": "f32e57d5-2fea-4e2c-d3e3-6acd1f80f9ee",
        "colab": {
          "base_uri": "https://localhost:8080/",
          "height": 350
        }
      },
      "source": [
        "plt.figure(figsize=(15,5))\n",
        "plt.subplot(121)\n",
        "dfn.groupby(['Weekday'])['InvoiceNo'].count().plot()\n",
        "plt.ylabel('No. of orders')\n",
        "plt.title('Orders per weekday')\n",
        "\n",
        "plt.subplot(122)\n",
        "dfn.groupby(['Weekday'])['Cost'].mean().plot()\n",
        "plt.ylabel('Total Amount spent')\n",
        "plt.title('Total Spending per weekday')\n",
        "\n",
        "plt.show()\n",
        "\n",
        "# The number of orders reaches a high around wednesday\n",
        "## and lowest on thursday\n",
        "\n",
        "# Total spending stays high throughout high except for the weekend\n",
        "\n",
        "# The lull on the weekends can be attributed to them being holidays\n",
        "## allowing people to physically go and purchase what is needed."
      ],
      "execution_count": null,
      "outputs": [
        {
          "output_type": "display_data",
          "data": {
            "image/png": "[encoded data removed]",
            "text/plain": [
              "<Figure size 1080x360 with 2 Axes>"
            ]
          },
          "metadata": {
            "tags": [],
            "needs_background": "light"
          }
        }
      ]
    },
    {
      "cell_type": "code",
      "metadata": {
        "id": "hpX_2NbcptC0",
        "outputId": "85c96632-ae5e-4300-f44f-e581d746ca50",
        "colab": {
          "base_uri": "https://localhost:8080/",
          "height": 350
        }
      },
      "source": [
        "plt.figure(figsize=(15,5))\n",
        "plt.subplot(121)\n",
        "dfn.groupby(['Hour'])['InvoiceNo'].count().plot()\n",
        "plt.ylabel('No. of orders')\n",
        "plt.title('Orders per hour')\n",
        "\n",
        "plt.subplot(122)\n",
        "dfn.groupby(['Hour'])['Cost'].mean().plot()\n",
        "plt.ylabel('Total Amount spent')\n",
        "plt.title('Total Spending per hour')\n",
        "\n",
        "plt.show()\n",
        "\n",
        "# The number of orders follows a normal distribution wrt hours\n",
        "\n",
        "# It peaks at around 12 pm.\n",
        "\n",
        "# There is a peculiar bump in the average amount spent per hour at \n",
        "## the 6am to 8 am mark suggesting customers on average spend more \n",
        "## in the first half of the day with a gradual decrease and a bump \n",
        "## later on in the night\n",
        "\n",
        "# This can be attributed to the working hours. This'll lead the \n",
        "## customers to be active right before office and once they return."
      ],
      "execution_count": null,
      "outputs": [
        {
          "output_type": "display_data",
          "data": {
            "image/png": "[encoded data removed]",
            "text/plain": [
              "<Figure size 1080x360 with 2 Axes>"
            ]
          },
          "metadata": {
            "tags": [],
            "needs_background": "light"
          }
        }
      ]
    },
    {
      "cell_type": "markdown",
      "metadata": {
        "id": "mvpDziLy4yCf"
      },
      "source": [
        "# A look into canceled orders"
      ]
    },
    {
      "cell_type": "code",
      "metadata": {
        "id": "Lo_5Z5Bx2mrY"
      },
      "source": [
        "cancel = dfn[[i[0]=='C' for i in dfn.InvoiceNo]]\n",
        "\n",
        "# most of the cancelations have been removed due to missing CustomerID."
      ],
      "execution_count": null,
      "outputs": []
    },
    {
      "cell_type": "code",
      "metadata": {
        "id": "PNgYb6yhA21q",
        "outputId": "a1c17050-c72b-4be3-8578-f519abe02d0f",
        "colab": {
          "base_uri": "https://localhost:8080/"
        }
      },
      "source": [
        "cancel.StockCode.value_counts().head(10)\n",
        "\n",
        "# Cancelations have been for these specific products suggesting \n",
        "## bad quality which can lead to bad reviews.\n",
        "\n",
        "# cancelations with D mean discount, suggesting that there have been\n",
        "## refunds for a purchase and hence are not cancelations\n",
        "\n",
        "# M and POST mean Manual delivery and Postage delivery which might \n",
        "## suggest problems with transportation."
      ],
      "execution_count": null,
      "outputs": [
        {
          "output_type": "execute_result",
          "data": {
            "text/plain": [
              "22423    181\n",
              "M        175\n",
              "POST      97\n",
              "22960     86\n",
              "D         77\n",
              "22720     73\n",
              "21232     61\n",
              "22699     53\n",
              "22197     50\n",
              "22666     47\n",
              "Name: StockCode, dtype: int64"
            ]
          },
          "metadata": {
            "tags": []
          },
          "execution_count": 75
        }
      ]
    },
    {
      "cell_type": "code",
      "metadata": {
        "id": "nECcogrs5ITj",
        "outputId": "993896b8-e085-419d-bd25-7391625cbd0e",
        "colab": {
          "base_uri": "https://localhost:8080/"
        }
      },
      "source": [
        "cancel.groupby('Country')['Cost'].sum().sort_values(ascending=True).head()\n",
        "\n",
        "# most cancelations have been in the UK\n",
        "# Ireland, France, Singapore and Germany in tow."
      ],
      "execution_count": null,
      "outputs": [
        {
          "output_type": "execute_result",
          "data": {
            "text/plain": [
              "Country\n",
              "United Kingdom   -540518.16\n",
              "EIRE              -15260.68\n",
              "France            -12311.21\n",
              "Singapore         -12158.90\n",
              "Germany            -7168.93\n",
              "Name: Cost, dtype: float64"
            ]
          },
          "metadata": {
            "tags": []
          },
          "execution_count": 56
        }
      ]
    },
    {
      "cell_type": "code",
      "metadata": {
        "id": "L4PJgrJ85Ffb",
        "outputId": "2502e78f-1ac1-468e-ecf5-3b672cc24c9a",
        "colab": {
          "base_uri": "https://localhost:8080/"
        }
      },
      "source": [
        "cancel.groupby('Country')['Cost'].mean().sort_values(ascending=True).head()\n",
        "\n",
        "# The average cost based on cancelation has been highest from Singapore.\n",
        "\n",
        "# UK doesn't show up again. This can be due to costlier purchases made \n",
        "## by customers overseas and canceling them."
      ],
      "execution_count": null,
      "outputs": [
        {
          "output_type": "execute_result",
          "data": {
            "text/plain": [
              "Country\n",
              "Singapore   -1736.985714\n",
              "Portugal     -243.337778\n",
              "Sweden       -162.038182\n",
              "Spain        -141.719375\n",
              "Israel       -113.720000\n",
              "Name: Cost, dtype: float64"
            ]
          },
          "metadata": {
            "tags": []
          },
          "execution_count": 62
        }
      ]
    },
    {
      "cell_type": "code",
      "metadata": {
        "id": "fLPstQ-d5sFh",
        "outputId": "51be199a-42b5-4bc8-8819-73ab81c8f5e0",
        "colab": {
          "base_uri": "https://localhost:8080/"
        }
      },
      "source": [
        "cancel.groupby(\n",
        "    ['CustomerID','Country']\n",
        "    )['InvoiceNo'].count().sort_values(ascending=False).head()\n",
        "\n",
        "# There are a few customers with multiple cancelations from Ireland,\n",
        "## UK and USA."
      ],
      "execution_count": null,
      "outputs": [
        {
          "output_type": "execute_result",
          "data": {
            "text/plain": [
              "CustomerID  Country       \n",
              "14911.0     EIRE              226\n",
              "17841.0     United Kingdom    136\n",
              "17511.0     United Kingdom    113\n",
              "15311.0     United Kingdom    112\n",
              "12607.0     USA               101\n",
              "Name: InvoiceNo, dtype: int64"
            ]
          },
          "metadata": {
            "tags": []
          },
          "execution_count": 59
        }
      ]
    },
    {
      "cell_type": "code",
      "metadata": {
        "id": "kmyUgk7d7JK5",
        "outputId": "f6fbc699-3565-4c9c-dd15-13dbb5940eee",
        "colab": {
          "base_uri": "https://localhost:8080/"
        }
      },
      "source": [
        "cancel.groupby(\n",
        "    ['CustomerID','Country']\n",
        "    )['Cost'].sum().sort_values(ascending=True).head()"
      ],
      "execution_count": null,
      "outputs": [
        {
          "output_type": "execute_result",
          "data": {
            "text/plain": [
              "CustomerID  Country       \n",
              "16446.0     United Kingdom   -168469.60\n",
              "12346.0     United Kingdom    -77183.60\n",
              "15098.0     United Kingdom    -39267.00\n",
              "16029.0     United Kingdom    -30032.23\n",
              "15749.0     United Kingdom    -22998.40\n",
              "Name: Cost, dtype: float64"
            ]
          },
          "metadata": {
            "tags": []
          },
          "execution_count": 61
        }
      ]
    },
    {
      "cell_type": "code",
      "metadata": {
        "id": "O2PxtwCk7W6f",
        "outputId": "c09b9ab0-30fb-40bf-9e8d-2ae85301faf8",
        "colab": {
          "base_uri": "https://localhost:8080/",
          "height": 1000
        }
      },
      "source": [
        "plt.figure(figsize=(12,20))\n",
        "plt.subplot(421)\n",
        "cancel.groupby(['Month'])['InvoiceNo'].count().plot()\n",
        "plt.ylabel('No. of orders')\n",
        "plt.title('Orders per day')\n",
        "\n",
        "plt.subplot(422)\n",
        "cancel.groupby(['Month'])['Cost'].mean().plot()\n",
        "plt.ylabel('Total Amount spent')\n",
        "plt.title('Total Spending per day')\n",
        "\n",
        "plt.subplot(423)\n",
        "cancel.groupby(['Day'])['InvoiceNo'].count().plot()\n",
        "plt.ylabel('No. of orders')\n",
        "plt.title('Orders per day')\n",
        "\n",
        "plt.subplot(424)\n",
        "cancel.groupby(['Day'])['Cost'].mean().plot()\n",
        "plt.ylabel('Total Amount spent')\n",
        "plt.title('Total Spending per day')\n",
        "\n",
        "plt.subplot(425)\n",
        "cancel.groupby(['Weekday'])['InvoiceNo'].count().plot()\n",
        "plt.ylabel('No. of orders')\n",
        "plt.title('Orders per day')\n",
        "\n",
        "plt.subplot(426)\n",
        "cancel.groupby(['Weekday'])['Cost'].mean().plot()\n",
        "plt.ylabel('Total Amount spent')\n",
        "plt.title('Total Spending per day')\n",
        "\n",
        "plt.subplot(427)\n",
        "cancel.groupby(['Hour'])['InvoiceNo'].count().plot()\n",
        "plt.ylabel('No. of orders')\n",
        "plt.title('Orders per day')\n",
        "\n",
        "plt.subplot(428)\n",
        "cancel.groupby(['Hour'])['Cost'].mean().plot()\n",
        "plt.ylabel('Total Amount spent')\n",
        "plt.title('Total Spending per day')\n",
        "\n",
        "plt.show()\n",
        "\n",
        "# The cancelations have a trend matching that of the rest of the dataset\n",
        "\n",
        "# This signifies that the customers tend to place orders and cancel them\n",
        "## and replace them as they go through the website suggesting a trend."
      ],
      "execution_count": null,
      "outputs": [
        {
          "output_type": "display_data",
          "data": {
            "image/png": "[encoded data removed]",
            "text/plain": [
              "<Figure size 864x1440 with 8 Axes>"
            ]
          },
          "metadata": {
            "tags": [],
            "needs_background": "light"
          }
        }
      ]
    },
    {
      "cell_type": "code",
      "metadata": {
        "id": "mfau3phH-2k3"
      },
      "source": [
        ""
      ],
      "execution_count": null,
      "outputs": []
    }
  ]
}